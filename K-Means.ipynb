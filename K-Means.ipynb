{
 "cells": [
  {
   "cell_type": "markdown",
   "id": "ce96cc9b",
   "metadata": {},
   "source": [
    "## Based on this resource\n",
    "\n",
    "https://realpython.com/k-means-clustering-python/"
   ]
  },
  {
   "cell_type": "code",
   "execution_count": 1,
   "id": "1408e9e5",
   "metadata": {},
   "outputs": [
    {
     "name": "stdout",
     "output_type": "stream",
     "text": [
      "Package                            Version\r\n",
      "---------------------------------- -----------\r\n",
      "affinegap                          1.12\r\n",
      "alabaster                          0.7.12\r\n",
      "anaconda-client                    1.10.0\r\n",
      "anaconda-navigator                 2.2.0\r\n",
      "anaconda-project                   0.11.1\r\n",
      "anyio                              3.5.0\r\n",
      "applaunchservices                  0.2.1\r\n",
      "appnope                            0.1.2\r\n",
      "appscript                          1.1.2\r\n",
      "argh                               0.26.2\r\n",
      "argon2-cffi                        21.3.0\r\n",
      "argon2-cffi-bindings               21.2.0\r\n",
      "asn1crypto                         1.5.1\r\n",
      "astroid                            2.11.7\r\n",
      "astropy                            5.1\r\n",
      "asttokens                          2.0.5\r\n",
      "atomicwrites                       1.4.0\r\n",
      "attrs                              21.4.0\r\n",
      "autocorrect                        2.6.1\r\n",
      "autopep8                           1.5.6\r\n",
      "Babel                              2.9.1\r\n",
      "backcall                           0.2.0\r\n",
      "backports.functools-lru-cache      1.6.4\r\n",
      "backports.shutil-get-terminal-size 1.0.0\r\n",
      "backports.tempfile                 1.0\r\n",
      "backports.weakref                  1.0.post1\r\n",
      "beautifulsoup4                     4.11.1\r\n",
      "bio                                1.3.8\r\n",
      "biopython                          1.79\r\n",
      "biothings-client                   0.2.6\r\n",
      "bitarray                           2.5.1\r\n",
      "bkcharts                           0.2\r\n",
      "black                              22.6.0\r\n",
      "bleach                             4.1.0\r\n",
      "blis                               0.7.6\r\n",
      "bokeh                              2.4.3\r\n",
      "boto                               2.49.0\r\n",
      "Bottleneck                         1.3.5\r\n",
      "brotlipy                           0.7.0\r\n",
      "bs4                                0.0.1\r\n",
      "BTrees                             4.9.2\r\n",
      "catalogue                          2.0.6\r\n",
      "categorical-distance               1.9\r\n",
      "certifi                            2022.6.15\r\n",
      "cffi                               1.15.1\r\n",
      "chardet                            4.0.0\r\n",
      "charset-normalizer                 2.0.4\r\n",
      "click                              8.0.4\r\n",
      "cloudpickle                        2.0.0\r\n",
      "clyent                             1.2.2\r\n",
      "colorama                           0.4.5\r\n",
      "conda                              4.13.0\r\n",
      "conda-build                        3.21.4\r\n",
      "conda-content-trust                0.1.3\r\n",
      "conda-pack                         0.6.0\r\n",
      "conda-package-handling             1.8.1\r\n",
      "conda-repo-cli                     1.0.5\r\n",
      "conda-token                        0.3.0\r\n",
      "conda-verify                       3.4.2\r\n",
      "contextlib2                        0.6.0.post1\r\n",
      "cryptography                       37.0.1\r\n",
      "csvmatch                           1.20\r\n",
      "cycler                             0.11.0\r\n",
      "cymem                              2.0.6\r\n",
      "Cython                             0.29.30\r\n",
      "cytoolz                            0.11.0\r\n",
      "dask                               2022.7.0\r\n",
      "datetime-distance                  0.1.3\r\n",
      "debugpy                            1.5.1\r\n",
      "decorator                          5.1.1\r\n",
      "dedupe                             1.10.0\r\n",
      "dedupe-hcluster                    0.3.9\r\n",
      "dedupe-variable-datetime           0.1.5\r\n",
      "defusedxml                         0.7.1\r\n",
      "dexplot                            0.1.4\r\n",
      "diff-match-patch                   20200713\r\n",
      "dill                               0.3.4\r\n",
      "distributed                        2022.7.0\r\n",
      "docutils                           0.18.1\r\n",
      "DoubleMetaphone                    0.1\r\n",
      "en-core-web-lg                     3.2.0\r\n",
      "en-core-web-sm                     3.2.0\r\n",
      "entrypoints                        0.4\r\n",
      "et-xmlfile                         1.1.0\r\n",
      "executing                          0.8.3\r\n",
      "fastcache                          1.1.0\r\n",
      "fastcluster                        1.2.4\r\n",
      "fastjsonschema                     2.15.1\r\n",
      "filelock                           3.6.0\r\n",
      "flake8                             3.9.0\r\n",
      "Flask                              2.1.3\r\n",
      "fonttools                          4.25.0\r\n",
      "fsspec                             2022.7.1\r\n",
      "future                             0.18.2\r\n",
      "fuzzy-pandas                       0.1\r\n",
      "fuzzywuzzy                         0.18.0\r\n",
      "gensim                             4.2.0\r\n",
      "gevent                             21.8.0\r\n",
      "glob2                              0.7\r\n",
      "gmpy2                              2.1.2\r\n",
      "greenlet                           1.1.1\r\n",
      "h5py                               2.10.0\r\n",
      "haversine                          2.5.1\r\n",
      "HeapDict                           1.0.1\r\n",
      "highered                           0.2.1\r\n",
      "html5lib                           1.1\r\n",
      "idna                               3.3\r\n",
      "imageio                            2.19.3\r\n",
      "imagesize                          1.4.1\r\n",
      "importlib-metadata                 4.11.3\r\n",
      "importlib-resources                5.2.0\r\n",
      "iniconfig                          1.1.1\r\n",
      "intervaltree                       3.1.0\r\n",
      "ipykernel                          6.9.1\r\n",
      "ipython                            8.4.0\r\n",
      "ipython-genutils                   0.2.0\r\n",
      "ipywidgets                         7.6.5\r\n",
      "isort                              5.9.3\r\n",
      "itsdangerous                       2.0.1\r\n",
      "jdcal                              1.4.1\r\n",
      "jedi                               0.17.2\r\n",
      "jellyfish                          0.7.2\r\n",
      "Jinja2                             3.1.2\r\n",
      "joblib                             1.1.0\r\n",
      "json5                              0.9.6\r\n",
      "jsonschema                         4.4.0\r\n",
      "jupyter                            1.0.0\r\n",
      "jupyter-client                     7.2.2\r\n",
      "jupyter-console                    6.4.3\r\n",
      "jupyter-contrib-core               0.3.3\r\n",
      "jupyter-contrib-nbextensions       0.5.1\r\n",
      "jupyter-core                       4.10.0\r\n",
      "jupyter-highlight-selected-word    0.2.0\r\n",
      "jupyter-latex-envs                 1.4.6\r\n",
      "jupyter-nbextensions-configurator  0.4.1\r\n",
      "jupyter-server                     1.18.1\r\n",
      "jupyterlab                         3.4.4\r\n",
      "jupyterlab-pygments                0.1.2\r\n",
      "jupyterlab-server                  2.12.0\r\n",
      "jupyterlab-widgets                 1.0.0\r\n",
      "keyring                            23.4.0\r\n",
      "kiwisolver                         1.4.2\r\n",
      "kneed                              0.8.1\r\n",
      "langcodes                          3.3.0\r\n",
      "lazy-object-proxy                  1.6.0\r\n",
      "Levenshtein-search                 1.4.5\r\n",
      "libarchive-c                       2.9\r\n",
      "llvmlite                           0.38.0\r\n",
      "locket                             1.0.0\r\n",
      "lxml                               4.9.1\r\n",
      "lz4                                3.1.3\r\n",
      "MarkupSafe                         2.1.1\r\n",
      "matplotlib                         3.5.1\r\n",
      "matplotlib-inline                  0.1.2\r\n",
      "mccabe                             0.6.1\r\n",
      "mistune                            0.8.4\r\n",
      "mkl-fft                            1.3.1\r\n",
      "mkl-random                         1.2.2\r\n",
      "mkl-service                        2.4.0\r\n",
      "mock                               4.0.3\r\n",
      "more-itertools                     8.12.0\r\n",
      "mpmath                             1.2.1\r\n",
      "msal                               1.18.0\r\n",
      "msgpack                            1.0.3\r\n",
      "multipledispatch                   0.6.0\r\n",
      "munkres                            1.1.4\r\n",
      "murmurhash                         1.0.6\r\n",
      "mygene                             3.2.2\r\n",
      "mypy-extensions                    0.4.3\r\n",
      "navigator-updater                  0.2.1\r\n",
      "nbclassic                          0.3.5\r\n",
      "nbclient                           0.5.13\r\n",
      "nbconvert                          6.5.0\r\n",
      "nbformat                           5.3.0\r\n",
      "nest-asyncio                       1.5.5\r\n",
      "networkx                           2.8.4\r\n",
      "nltk                               3.7\r\n",
      "nose                               1.3.7\r\n",
      "notebook                           6.4.12\r\n",
      "numba                              0.55.1\r\n",
      "numexpr                            2.8.3\r\n",
      "numpy                              1.22.4\r\n",
      "numpydoc                           1.4.0\r\n",
      "Office365-REST-Python-Client       2.3.12\r\n",
      "olefile                            0.46\r\n",
      "opencv-python                      4.5.5.62\r\n",
      "openpyxl                           3.0.10\r\n",
      "packaging                          21.3\r\n",
      "pandas                             1.4.3\r\n",
      "pandocfilters                      1.5.0\r\n",
      "parso                              0.7.0\r\n",
      "partd                              1.2.0\r\n",
      "path                               16.2.0\r\n",
      "pathlib2                           2.3.6\r\n",
      "pathspec                           0.9.0\r\n",
      "pathtools                          0.1.2\r\n",
      "pathy                              0.6.1\r\n",
      "patsy                              0.5.2\r\n",
      "pep8                               1.7.1\r\n",
      "persistent                         4.7.0\r\n"
     ]
    },
    {
     "name": "stdout",
     "output_type": "stream",
     "text": [
      "pexpect                            4.8.0\r\n",
      "pickleshare                        0.7.5\r\n",
      "Pillow                             9.2.0\r\n",
      "pip                                22.1.2\r\n",
      "pkginfo                            1.8.2\r\n",
      "platformdirs                       2.4.0\r\n",
      "plotly                             5.9.0\r\n",
      "pluggy                             1.0.0\r\n",
      "ply                                3.11\r\n",
      "preshed                            3.0.6\r\n",
      "progressbar2                       4.0.0\r\n",
      "prometheus-client                  0.14.1\r\n",
      "prompt-toolkit                     3.0.20\r\n",
      "psutil                             5.9.0\r\n",
      "ptyprocess                         0.7.0\r\n",
      "pure-eval                          0.2.2\r\n",
      "py                                 1.11.0\r\n",
      "pycodestyle                        2.6.0\r\n",
      "pycosat                            0.6.3\r\n",
      "pycparser                          2.21\r\n",
      "pycurl                             7.45.1\r\n",
      "pydantic                           1.8.2\r\n",
      "pydocstyle                         6.1.1\r\n",
      "pyerfa                             2.0.0\r\n",
      "pyflakes                           2.2.0\r\n",
      "pygam                              0.8.0\r\n",
      "Pygments                           2.11.2\r\n",
      "pyhacrf-datamade                   0.2.6\r\n",
      "PyJWT                              2.4.0\r\n",
      "PyLBFGS                            0.2.0.14\r\n",
      "pylint                             2.14.5\r\n",
      "pyls-black                         0.4.6\r\n",
      "pyls-spyder                        0.3.2\r\n",
      "pyodbc                             4.0.34\r\n",
      "pyOpenSSL                          22.0.0\r\n",
      "pyparsing                          3.0.4\r\n",
      "pyrsistent                         0.18.0\r\n",
      "PySocks                            1.7.1\r\n",
      "pytest                             7.1.2\r\n",
      "python-dateutil                    2.8.2\r\n",
      "python-jsonrpc-server              0.4.0\r\n",
      "python-language-server             0.36.2\r\n",
      "python-Levenshtein                 0.12.2\r\n",
      "python-tvrage                      0.1.4\r\n",
      "python-utils                       3.3.3\r\n",
      "pytz                               2022.1\r\n",
      "PyWavelets                         1.3.0\r\n",
      "PyYAML                             6.0\r\n",
      "pyzmq                              23.2.0\r\n",
      "QDarkStyle                         2.8.1\r\n",
      "QtAwesome                          1.0.3\r\n",
      "qtconsole                          5.3.1\r\n",
      "QtPy                               2.0.1\r\n",
      "regex                              2022.7.9\r\n",
      "requests                           2.28.1\r\n",
      "rlr                                2.4.6\r\n",
      "rope                               0.22.0\r\n",
      "Rtree                              0.9.7\r\n",
      "ruamel-yaml-conda                  0.15.100\r\n",
      "scikit-image                       0.19.2\r\n",
      "scikit-learn                       0.24.1\r\n",
      "scipy                              1.7.3\r\n",
      "seaborn                            0.11.2\r\n",
      "Send2Trash                         1.8.0\r\n",
      "setuptools                         61.2.0\r\n",
      "sharepoint                         0.4.2\r\n",
      "sharepy                            2.0.0\r\n",
      "sidetable                          0.9.0\r\n",
      "simplecosine                       1.2\r\n",
      "simplegeneric                      0.8.1\r\n",
      "singledispatch                     3.7.0\r\n",
      "six                                1.16.0\r\n",
      "sklearn                            0.0\r\n",
      "smart-open                         5.2.1\r\n",
      "sniffio                            1.2.0\r\n",
      "snowballstemmer                    2.2.0\r\n",
      "sortedcollections                  2.1.0\r\n",
      "sortedcontainers                   2.4.0\r\n",
      "soupsieve                          2.3.1\r\n",
      "spacy                              3.2.3\r\n",
      "spacy-legacy                       3.0.9\r\n",
      "spacy-loggers                      1.0.1\r\n",
      "Sphinx                             5.0.2\r\n",
      "sphinxcontrib-applehelp            1.0.2\r\n",
      "sphinxcontrib-devhelp              1.0.2\r\n",
      "sphinxcontrib-htmlhelp             2.0.0\r\n",
      "sphinxcontrib-jsmath               1.0.1\r\n",
      "sphinxcontrib-qthelp               1.0.3\r\n",
      "sphinxcontrib-serializinghtml      1.1.5\r\n",
      "sphinxcontrib-websupport           1.2.4\r\n",
      "spyder                             4.2.5\r\n",
      "spyder-kernels                     1.10.2\r\n",
      "SQLAlchemy                         1.4.39\r\n",
      "srsly                              2.4.2\r\n",
      "stack-data                         0.2.0\r\n",
      "statsmodels                        0.13.2\r\n",
      "sympy                              1.10.1\r\n",
      "tables                             3.6.1\r\n",
      "tblib                              1.7.0\r\n",
      "tenacity                           8.0.1\r\n",
      "terminado                          0.13.1\r\n",
      "testpath                           0.6.0\r\n",
      "textdistance                       4.2.1\r\n",
      "thinc                              8.0.13\r\n",
      "threadpoolctl                      2.2.0\r\n",
      "three-merge                        0.1.1\r\n",
      "tifffile                           2020.10.1\r\n",
      "tinycss2                           1.1.1\r\n",
      "toml                               0.10.2\r\n",
      "tomli                              2.0.1\r\n",
      "tomlkit                            0.11.1\r\n",
      "toolz                              0.11.2\r\n",
      "tornado                            6.1\r\n",
      "tqdm                               4.64.0\r\n",
      "traitlets                          5.1.1\r\n",
      "typer                              0.4.0\r\n",
      "typing_extensions                  4.3.0\r\n",
      "ujson                              5.4.0\r\n",
      "unicodecsv                         0.14.1\r\n",
      "Unidecode                          1.1.1\r\n",
      "urllib3                            1.26.11\r\n",
      "utils                              1.0.1\r\n",
      "voila                              0.3.5\r\n",
      "wasabi                             0.9.0\r\n",
      "watchdog                           1.0.2\r\n",
      "wcwidth                            0.2.5\r\n",
      "webencodings                       0.5.1\r\n",
      "websocket-client                   0.58.0\r\n",
      "websockets                         10.3\r\n",
      "Werkzeug                           2.0.3\r\n",
      "wheel                              0.37.1\r\n",
      "widgetsnbextension                 3.5.2\r\n",
      "wrapt                              1.14.1\r\n",
      "wurlitzer                          3.0.2\r\n",
      "xlrd                               2.0.1\r\n",
      "XlsxWriter                         3.0.3\r\n",
      "xlwings                            0.24.9\r\n",
      "xlwt                               1.3.0\r\n",
      "yapf                               0.31.0\r\n",
      "zict                               2.1.0\r\n",
      "zipp                               3.8.0\r\n",
      "zope.event                         4.5.0\r\n",
      "zope.index                         5.1.0\r\n",
      "zope.interface                     5.4.0\r\n"
     ]
    }
   ],
   "source": [
    "!pip list"
   ]
  },
  {
   "cell_type": "code",
   "execution_count": 2,
   "id": "8362c4b5",
   "metadata": {},
   "outputs": [],
   "source": [
    "# Let's start by insallting then importing some packages...\n",
    "\n",
    "# !pip install matplotlib\n",
    "# !pip install kneed\n",
    "# !pip install sklearn\n",
    "\n",
    "import matplotlib.pyplot as plt\n",
    "from kneed import KneeLocator\n",
    "from sklearn.datasets import make_blobs\n",
    "from sklearn.cluster import KMeans\n",
    "from sklearn.metrics import silhouette_score\n",
    "from sklearn.preprocessing import StandardScaler\n"
   ]
  },
  {
   "cell_type": "code",
   "execution_count": 3,
   "id": "21e7e816",
   "metadata": {},
   "outputs": [
    {
     "name": "stdout",
     "output_type": "stream",
     "text": [
      "python:             3.8.13\n"
     ]
    }
   ],
   "source": [
    "from platform import python_version \n",
    "print('python:            ',python_version())"
   ]
  },
  {
   "cell_type": "markdown",
   "id": "aa119433",
   "metadata": {},
   "source": [
    "## Step 1 - Let's generate some clusters"
   ]
  },
  {
   "cell_type": "markdown",
   "id": "b9fef268",
   "metadata": {},
   "source": [
    "First, we will use the scikit-learn function 'make_blobs', which is used to generate synthetic clusters. It uses the following parameters:\n",
    "\n",
    "* n_samples - total number of samples to generate\n",
    "* centres - the number of centroids to generate\n",
    "* random_state - if we set this to 'None' a random number will be generated each time we call on the function. But, if we set it to an integer e.g. 32, this allows for reproducible output each time we call on the function.\n",
    "* cluster_std - the standard deviation... but we won't worry about this too much for now"
   ]
  },
  {
   "cell_type": "code",
   "execution_count": 4,
   "id": "89d4ebc9",
   "metadata": {},
   "outputs": [],
   "source": [
    "features, true_labels = make_blobs(\n",
    "    n_samples=200,\n",
    "    centers=3,\n",
    "    cluster_std=2.75,\n",
    "    random_state=32\n",
    ")"
   ]
  },
  {
   "cell_type": "code",
   "execution_count": 56,
   "id": "c332033a",
   "metadata": {},
   "outputs": [
    {
     "data": {
      "text/plain": [
       "<matplotlib.collections.PathCollection at 0x7fca520a0a90>"
      ]
     },
     "execution_count": 56,
     "metadata": {},
     "output_type": "execute_result"
    },
    {
     "data": {
      "image/png": "[encoded data removed]",
      "text/plain": [
       "<Figure size 432x288 with 1 Axes>"
      ]
     },
     "metadata": {},
     "output_type": "display_data"
    }
   ],
   "source": [
    "plt.scatter(features[:,0], features[:,1], marker = \"o\", c = true_labels, s = 25, edgecolor = \"k\")"
   ]
  },
  {
   "cell_type": "code",
   "execution_count": 49,
   "id": "bd75c378",
   "metadata": {},
   "outputs": [
    {
     "data": {
      "text/plain": [
       "200"
      ]
     },
     "execution_count": 49,
     "metadata": {},
     "output_type": "execute_result"
    }
   ],
   "source": [
    "len(features)"
   ]
  },
  {
   "cell_type": "markdown",
   "id": "5ec90a8a",
   "metadata": {},
   "source": [
    "Let's take a closer look at the first 5 samples, starting with the features."
   ]
  },
  {
   "cell_type": "code",
   "execution_count": 5,
   "id": "c767f99d",
   "metadata": {},
   "outputs": [
    {
     "data": {
      "text/plain": [
       "array([[ 5.98141618, 10.51611954],\n",
       "       [ 4.44331872,  8.91046702],\n",
       "       [ 4.15174699,  5.22640696],\n",
       "       [ 2.24146988,  3.16161526],\n",
       "       [ 7.18004878, -1.57894707]])"
      ]
     },
     "execution_count": 5,
     "metadata": {},
     "output_type": "execute_result"
    }
   ],
   "source": [
    "features[:5]"
   ]
  },
  {
   "cell_type": "code",
   "execution_count": 118,
   "id": "cefbbe4a",
   "metadata": {},
   "outputs": [
    {
     "data": {
      "text/plain": [
       "array([2, 1, 1, 2, 0])"
      ]
     },
     "execution_count": 118,
     "metadata": {},
     "output_type": "execute_result"
    }
   ],
   "source": [
    "true_labels[:5]"
   ]
  },
  {
   "cell_type": "markdown",
   "id": "522fd1f6",
   "metadata": {},
   "source": [
    "As we can see, we have an array containing 2 numerical values for each sample. \n",
    "\n",
    "When it comes to performing clustering on a given dataset, you must think carefully about your feature variables. \n",
    "\n",
    "Perhaps your dataset contains information on bank loans and custoner data. It could contain a variable 'annual income' which ranges from £19,000 - £1,000,000, and another variable 'monthly debt' which ranges from £0 - £400,000. Therefore, we must change the values of these numeric columns in the dataset to ensure that they use a common scale, i.e., we standardise/normalise the data. In machine learning, this is referred to as 'feature scaling', and is especially important for clustering given that it is a distance-based algorithm.\n",
    "\n",
    "Because k-means uses the Euclidean distance to calculate the distance between data points and the centroids, we need to ensure that the distance measure accords equal weight to each variable. We don't want to put more weight on variables that might have higher variance. \n",
    "\n"
   ]
  },
  {
   "cell_type": "markdown",
   "id": "cf03885c",
   "metadata": {},
   "source": [
    "## Step 2 - Standardise the data"
   ]
  },
  {
   "cell_type": "markdown",
   "id": "ef6e306c",
   "metadata": {},
   "source": [
    "To do this, we will use scikit-learn's preprocessing package which comes with a StandardScaler() class, which is a quick way to perform feature scaling."
   ]
  },
  {
   "cell_type": "code",
   "execution_count": 7,
   "id": "acaebcae",
   "metadata": {},
   "outputs": [],
   "source": [
    "scaler = StandardScaler()\n",
    "scaled_features = scaler.fit_transform(features)"
   ]
  },
  {
   "cell_type": "code",
   "execution_count": 8,
   "id": "8424b958",
   "metadata": {},
   "outputs": [
    {
     "data": {
      "text/plain": [
       "array([[ 0.41715892,  1.11834775],\n",
       "       [ 0.01079153,  0.83303204],\n",
       "       [-0.0662421 ,  0.17839464],\n",
       "       [-0.57093984, -0.1885076 ],\n",
       "       [ 0.73383924, -1.0308797 ]])"
      ]
     },
     "execution_count": 8,
     "metadata": {},
     "output_type": "execute_result"
    }
   ],
   "source": [
    "scaled_features[:5]"
   ]
  },
  {
   "cell_type": "markdown",
   "id": "f654dc9f",
   "metadata": {},
   "source": [
    "Let's look at the variance for each matrix column BEFORE and AFTER feature scaling..."
   ]
  },
  {
   "cell_type": "code",
   "execution_count": 9,
   "id": "ea4b2e53",
   "metadata": {},
   "outputs": [
    {
     "data": {
      "text/plain": [
       "14.326167418288941"
      ]
     },
     "execution_count": 9,
     "metadata": {},
     "output_type": "execute_result"
    }
   ],
   "source": [
    "# Variance for the first column before scaling...\n",
    "\n",
    "features[:,0].var()"
   ]
  },
  {
   "cell_type": "code",
   "execution_count": 10,
   "id": "28c503ca",
   "metadata": {},
   "outputs": [
    {
     "data": {
      "text/plain": [
       "31.67027058298565"
      ]
     },
     "execution_count": 10,
     "metadata": {},
     "output_type": "execute_result"
    }
   ],
   "source": [
    "# Variance for the second column before scaling...\n",
    "\n",
    "features[:,1].var()"
   ]
  },
  {
   "cell_type": "code",
   "execution_count": 11,
   "id": "311adca5",
   "metadata": {},
   "outputs": [
    {
     "data": {
      "text/plain": [
       "0.9999999999999993"
      ]
     },
     "execution_count": 11,
     "metadata": {},
     "output_type": "execute_result"
    }
   ],
   "source": [
    "# Variance for first column after scaling...\n",
    "\n",
    "scaled_features[:,0].var()"
   ]
  },
  {
   "cell_type": "code",
   "execution_count": 12,
   "id": "3ea6e809",
   "metadata": {},
   "outputs": [
    {
     "data": {
      "text/plain": [
       "1.0000000000000009"
      ]
     },
     "execution_count": 12,
     "metadata": {},
     "output_type": "execute_result"
    }
   ],
   "source": [
    "# Variance for second column after scaling...\n",
    "\n",
    "scaled_features[:,1].var()"
   ]
  },
  {
   "cell_type": "markdown",
   "id": "640f0ad4",
   "metadata": {},
   "source": [
    "## Step 3 - Clustering"
   ]
  },
  {
   "cell_type": "markdown",
   "id": "4adf54e7",
   "metadata": {},
   "source": [
    "Nice. We can see that the variance of the two columns are now both close to 1.0. Now that we have finished the preprocessing phase, we can start to cluster our data!\n",
    "\n",
    "To do this we can use the KMeans class which comes with the scikit-learn package. It has the following parameters:\n",
    "\n",
    "* init - this is the method for initialisation. The standard version of the k-means algorithm is implemented by setting init to \"random\".\n",
    "\n",
    "* n_clusters - this is the number of clusters that you want the algorithm to form, as well as the number of centroids to generate\n",
    "\n",
    "* n_iter - this refers to the number of iterations, i.e., the number of times that the k-means algorithm will be run. This is important because 2 runs can converge on different cluster assignments. The default behaviour for the scikit-learn algorithm is to perform ten k-means runs and then return the results of the one with the lowest sum of the squared error (SSE).\n",
    "\n",
    "* max_iter - this refers to the max number of iterations of the algorithm for a single run. "
   ]
  },
  {
   "cell_type": "code",
   "execution_count": 13,
   "id": "007b0e74",
   "metadata": {},
   "outputs": [],
   "source": [
    "kmeans = KMeans(\n",
    "    init=\"random\",\n",
    "    n_clusters=3,\n",
    "    n_init = 10,\n",
    "    max_iter=300,\n",
    "    random_state=32\n",
    ")"
   ]
  },
  {
   "cell_type": "code",
   "execution_count": 14,
   "id": "8f111ea4",
   "metadata": {},
   "outputs": [
    {
     "data": {
      "text/plain": [
       "KMeans(init='random', n_clusters=3, random_state=32)"
      ]
     },
     "execution_count": 14,
     "metadata": {},
     "output_type": "execute_result"
    }
   ],
   "source": [
    "# This will perform 10 runs of the k-means algorithm on the data, with a maximum of 300 iterations per run\n",
    "\n",
    "\n",
    "kmeans.fit(scaled_features)"
   ]
  },
  {
   "cell_type": "markdown",
   "id": "dfa7a005",
   "metadata": {},
   "source": [
    "After fitting the data to the algorithm, we can then access statistics from the initilisation run. These statistics are from the run with the lowest SSE."
   ]
  },
  {
   "cell_type": "code",
   "execution_count": 15,
   "id": "c94bb4a2",
   "metadata": {},
   "outputs": [
    {
     "data": {
      "text/plain": [
       "124.31264130265883"
      ]
     },
     "execution_count": 15,
     "metadata": {},
     "output_type": "execute_result"
    }
   ],
   "source": [
    "# The lowest SSE value\n",
    "\n",
    "kmeans.inertia_"
   ]
  },
  {
   "cell_type": "code",
   "execution_count": 16,
   "id": "f3405dce",
   "metadata": {},
   "outputs": [
    {
     "data": {
      "text/plain": [
       "array([[ 0.17788628,  0.42416043],\n",
       "       [ 0.86785736, -1.2135988 ],\n",
       "       [-1.07004213,  0.78200693]])"
      ]
     },
     "execution_count": 16,
     "metadata": {},
     "output_type": "execute_result"
    }
   ],
   "source": [
    "# Final locations of the centroid\n",
    "# These are the coordinates of the cluster centers\n",
    "\n",
    "kmeans.cluster_centers_"
   ]
  },
  {
   "cell_type": "code",
   "execution_count": 17,
   "id": "bd9ce463",
   "metadata": {},
   "outputs": [
    {
     "data": {
      "text/plain": [
       "12"
      ]
     },
     "execution_count": 17,
     "metadata": {},
     "output_type": "execute_result"
    }
   ],
   "source": [
    "# The number of iterations required for the algorithm to converge\n",
    "\n",
    "kmeans.n_iter_"
   ]
  },
  {
   "cell_type": "code",
   "execution_count": 18,
   "id": "ec1213b2",
   "metadata": {},
   "outputs": [
    {
     "data": {
      "text/plain": [
       "array([0, 0, 0, 0, 1, 0, 0, 1, 1, 0, 2, 1, 0, 2, 2, 0, 2, 0, 1, 1, 1, 0,\n",
       "       1, 0, 2, 0, 1, 1, 2, 0, 0, 2, 1, 2, 0, 2, 1, 0, 1, 0, 0, 1, 0, 1,\n",
       "       0, 2, 2, 1, 1, 2, 0, 1, 0, 2, 1, 0, 1, 0, 1, 0, 1, 0, 1, 0, 1, 1,\n",
       "       2, 2, 2, 0, 0, 2, 2, 0, 0, 0, 2, 0, 1, 1, 0, 2, 2, 2, 0, 1, 0, 1,\n",
       "       2, 1, 2, 2, 0, 2, 0, 1, 2, 1, 1, 2, 0, 2, 2, 0, 1, 2, 0, 0, 1, 1,\n",
       "       1, 2, 0, 1, 1, 1, 1, 1, 0, 2, 2, 1, 1, 0, 2, 0, 2, 0, 1, 1, 1, 2,\n",
       "       2, 2, 2, 1, 0, 0, 2, 1, 2, 2, 2, 2, 2, 2, 2, 2, 2, 0, 0, 1, 1, 0,\n",
       "       0, 0, 0, 1, 2, 0, 1, 1, 2, 1, 1, 2, 0, 1, 2, 2, 0, 0, 0, 2, 0, 1,\n",
       "       1, 1, 0, 0, 2, 1, 1, 2, 1, 0, 2, 2, 2, 0, 1, 1, 2, 0, 0, 2, 2, 2,\n",
       "       1, 0], dtype=int32)"
      ]
     },
     "execution_count": 18,
     "metadata": {},
     "output_type": "execute_result"
    }
   ],
   "source": [
    "# Another attribute, labels_, shows us which cluster each datapoint in our scaled_features was assigned to\n",
    "# These are stored as a one-dimensional NumPy array\n",
    "\n",
    "kmeans.labels_"
   ]
  },
  {
   "cell_type": "code",
   "execution_count": 19,
   "id": "2c4d3f3e",
   "metadata": {},
   "outputs": [
    {
     "data": {
      "text/plain": [
       "array([2, 1, 1, 2, 0])"
      ]
     },
     "execution_count": 19,
     "metadata": {},
     "output_type": "execute_result"
    }
   ],
   "source": [
    "true_labels[:5]"
   ]
  },
  {
   "cell_type": "code",
   "execution_count": 20,
   "id": "0273a2a2",
   "metadata": {},
   "outputs": [
    {
     "data": {
      "text/plain": [
       "array([0, 0, 0, 0, 1], dtype=int32)"
      ]
     },
     "execution_count": 20,
     "metadata": {},
     "output_type": "execute_result"
    }
   ],
   "source": [
    "# The first 5 predicted labels\n",
    "\n",
    "kmeans.labels_[:5]"
   ]
  },
  {
   "cell_type": "markdown",
   "id": "cad86c09",
   "metadata": {},
   "source": [
    "## How do we decide on the number of clusters?\n",
    "\n",
    "You'll notice that each time you increment the number of clusters, the inertia value (the lowest SSE value found during the k-means runs) decreases. As more centroids are added, the distance from each point to its closest centroid will decrease. So, how do we know when to stop adding centroids?\n",
    "\n",
    "A common method used to evaluate the appropriate number of clusters is the 'elbow method'. Determining the number of clusters is a crucial step in the k-means algorithm, and it involves running k-means clustering on the dataset for a range of values for k (e.g. 1-10). Then, we compute the SSE values for each k. The elbow method reveals a 'sweet spot' where the SSE curve starts to bend, i.e, its elbow point."
   ]
  },
  {
   "cell_type": "markdown",
   "id": "ad1f8536",
   "metadata": {},
   "source": [
    "### The Elbow Method"
   ]
  },
  {
   "cell_type": "code",
   "execution_count": 38,
   "id": "6f33a331",
   "metadata": {},
   "outputs": [
    {
     "name": "stdout",
     "output_type": "stream",
     "text": [
      "KMeans(init='random', n_clusters=2, random_state=32)\n",
      "KMeans(init='random', n_clusters=3, random_state=32)\n",
      "KMeans(init='random', n_clusters=4, random_state=32)\n",
      "KMeans(init='random', n_clusters=5, random_state=32)\n",
      "KMeans(init='random', n_clusters=6, random_state=32)\n",
      "KMeans(init='random', n_clusters=7, random_state=32)\n",
      "KMeans(init='random', random_state=32)\n",
      "KMeans(init='random', n_clusters=9, random_state=32)\n",
      "KMeans(init='random', n_clusters=10, random_state=32)\n",
      "\n",
      "[174.4367506470675, 124.31264130265883, 91.01408809786318, 76.32266299257651, 62.67242810297484, 52.67066764415399, 45.106560929767454, 38.99694723134398, 35.14403084800228]\n"
     ]
    }
   ],
   "source": [
    "kmeans_kwargs = {\n",
    "    \"init\": \"random\",\n",
    "    \"n_init\": 10,\n",
    "    \"max_iter\": 300,\n",
    "    \"random_state\": 32}\n",
    "\n",
    "\n",
    "\n",
    "# Here we create a variable 'sse' which contains an empty list\n",
    "\n",
    "sse = []\n",
    "\n",
    "# We then iterate through each k value, ranging from 1-10\n",
    "# Note: range() method does not include the end number in the result, that's why we do 1-11\n",
    "for k in range(2, 11):\n",
    "#     For each k, we instantiate the kmeans class \n",
    "# Here, the double asterix operator **  is used to unpack a dictionary of keyword arguments, kwargs\n",
    "# We use it to unpack kmeans_kwargs, which have passed to the KMeans function\n",
    "    kmeans = KMeans(n_clusters=k, **kmeans_kwargs)\n",
    "    print(kmeans)\n",
    "    kmeans.fit(scaled_features)\n",
    "    sse.append(kmeans.inertia_)\n",
    "    \n",
    "# Let's take a look at our SSE scores\n",
    "print(\"\")\n",
    "print(sse)\n"
   ]
  },
  {
   "cell_type": "markdown",
   "id": "3024f966",
   "metadata": {},
   "source": [
    "We want to pick the value of k at the \"elbow\" i.e., the point after which the inertia starts decreasing in a linear fashion. In order to observe the elbow, we can plot the number of clusters and the corresponding sse values. In the graph below, it's rather subtle, but we can see that the elbow point is at k=4. In which case, we can determine that the appropriate number of clusters for this dataset, is 4."
   ]
  },
  {
   "cell_type": "code",
   "execution_count": 39,
   "id": "2cec2df7",
   "metadata": {},
   "outputs": [
    {
     "data": {
      "image/png": "[encoded data removed]",
      "text/plain": [
       "<Figure size 432x288 with 1 Axes>"
      ]
     },
     "metadata": {},
     "output_type": "display_data"
    }
   ],
   "source": [
    "plt.style.use(\"fivethirtyeight\")\n",
    "plt.plot(range(2, 11), sse)\n",
    "plt.xticks(range(2, 11))\n",
    "plt.xlabel(\"Number of Clusters\")\n",
    "plt.ylabel(\"SSE\")\n",
    "plt.show()"
   ]
  },
  {
   "cell_type": "markdown",
   "id": "3d49e1a4",
   "metadata": {},
   "source": [
    "However, if the graph isn't all that clear, and you'd like a more straightforward means of acquiring the elbow point, you can use the 'kneed' Python package. This comes with the KneeLocator() class, which determines the elbow point programmatically. Let's see if it matches our observation that k should = 4."
   ]
  },
  {
   "cell_type": "code",
   "execution_count": 45,
   "id": "cb32e395",
   "metadata": {},
   "outputs": [
    {
     "data": {
      "text/plain": [
       "4"
      ]
     },
     "execution_count": 45,
     "metadata": {},
     "output_type": "execute_result"
    }
   ],
   "source": [
    "\n",
    "kl = KneeLocator(\n",
    "    range(2, 11), sse, curve=\"convex\", direction=\"decreasing\")\n",
    "\n",
    "\n",
    "# We can now access the 'elbow' variable\n",
    "kl.elbow"
   ]
  },
  {
   "cell_type": "code",
   "execution_count": 77,
   "id": "83cad4c0",
   "metadata": {},
   "outputs": [
    {
     "data": {
      "text/plain": [
       "array([2, 2, 2, 1, 0, 0, 2, 3, 0, 2, 1, 3, 2, 1, 1, 0, 1, 2, 0, 3, 0, 2,\n",
       "       0, 2, 1, 2, 3, 0, 1, 2, 2, 1, 0, 1, 0, 1, 0, 0, 3, 2, 2, 0, 2, 3,\n",
       "       0, 1, 1, 0, 0, 1, 2, 0, 2, 1, 0, 2, 3, 0, 0, 2, 0, 2, 3, 2, 0, 3,\n",
       "       1, 1, 1, 2, 2, 1, 1, 2, 2, 2, 1, 0, 3, 0, 2, 1, 1, 1, 2, 3, 2, 0,\n",
       "       1, 0, 1, 1, 2, 1, 2, 3, 1, 0, 3, 1, 0, 1, 1, 2, 3, 1, 2, 2, 0, 3,\n",
       "       0, 1, 2, 3, 3, 3, 0, 0, 2, 1, 1, 0, 3, 2, 1, 2, 1, 2, 0, 0, 3, 2,\n",
       "       1, 1, 1, 3, 2, 0, 1, 3, 1, 1, 1, 1, 1, 1, 1, 1, 1, 2, 1, 3, 0, 0,\n",
       "       2, 2, 2, 0, 1, 0, 0, 3, 1, 0, 3, 1, 2, 0, 1, 1, 2, 2, 2, 1, 2, 3,\n",
       "       0, 0, 2, 2, 1, 0, 0, 1, 3, 2, 1, 1, 1, 2, 3, 3, 1, 2, 2, 1, 1, 1,\n",
       "       3, 2], dtype=int32)"
      ]
     },
     "execution_count": 77,
     "metadata": {},
     "output_type": "execute_result"
    }
   ],
   "source": [
    "kmeans = KMeans(n_clusters=4, **kmeans_kwargs)\n",
    "kmeans.fit(scaled_features)\n",
    "\n",
    "kmeans.labels_"
   ]
  },
  {
   "cell_type": "code",
   "execution_count": 78,
   "id": "2d337fb6",
   "metadata": {},
   "outputs": [
    {
     "data": {
      "text/plain": [
       "<matplotlib.collections.PathCollection at 0x7fca6455c670>"
      ]
     },
     "execution_count": 78,
     "metadata": {},
     "output_type": "execute_result"
    },
    {
     "data": {
      "image/png": "[encoded data removed]",
      "text/plain": [
       "<Figure size 432x288 with 1 Axes>"
      ]
     },
     "metadata": {},
     "output_type": "display_data"
    }
   ],
   "source": [
    "plt.scatter(scaled_features[:,0], scaled_features[:,1], marker = \"o\", c = kmeans.labels_, s = 25, edgecolor = \"k\")"
   ]
  },
  {
   "cell_type": "code",
   "execution_count": 79,
   "id": "d6767264",
   "metadata": {},
   "outputs": [],
   "source": [
    "# To do: plot cluster centroids"
   ]
  },
  {
   "cell_type": "markdown",
   "id": "fb5eeeb1",
   "metadata": {},
   "source": [
    "## K-Means Clustering on Customer Dataset\n",
    "\n",
    "Now that we've covered the basics of the k-means algorithm using our rather lifeless blobs of points, let's explore some real-world data!\n",
    "\n",
    "The dataset that we are going to use contains information on customers of a wholesale distributor. It includes the annual spendingon a range of product categories. Let's see if we can use k-means clustering to segment/group these customers based on their spending habits."
   ]
  },
  {
   "cell_type": "code",
   "execution_count": 87,
   "id": "19168af8",
   "metadata": {},
   "outputs": [
    {
     "name": "stdout",
     "output_type": "stream",
     "text": [
      "Requirement already satisfied: pandas_profiling in /opt/anaconda3/lib/python3.8/site-packages (3.2.0)\n",
      "Requirement already satisfied: PyYAML>=5.0.0 in /opt/anaconda3/lib/python3.8/site-packages (from pandas_profiling) (6.0)\n",
      "Requirement already satisfied: visions[type_image_path]==0.7.4 in /opt/anaconda3/lib/python3.8/site-packages (from pandas_profiling) (0.7.4)\n",
      "Requirement already satisfied: pandas!=1.0.0,!=1.0.1,!=1.0.2,!=1.1.0,>=0.25.3 in /opt/anaconda3/lib/python3.8/site-packages (from pandas_profiling) (1.4.3)\n",
      "Requirement already satisfied: seaborn>=0.10.1 in /opt/anaconda3/lib/python3.8/site-packages (from pandas_profiling) (0.11.2)\n",
      "Requirement already satisfied: scipy>=1.4.1 in /opt/anaconda3/lib/python3.8/site-packages (from pandas_profiling) (1.7.3)\n",
      "Requirement already satisfied: pydantic>=1.8.1 in /opt/anaconda3/lib/python3.8/site-packages (from pandas_profiling) (1.8.2)\n",
      "Requirement already satisfied: phik>=0.11.1 in /opt/anaconda3/lib/python3.8/site-packages (from pandas_profiling) (0.12.2)\n",
      "Requirement already satisfied: tangled-up-in-unicode==0.2.0 in /opt/anaconda3/lib/python3.8/site-packages (from pandas_profiling) (0.2.0)\n",
      "Requirement already satisfied: jinja2>=2.11.1 in /opt/anaconda3/lib/python3.8/site-packages (from pandas_profiling) (3.1.2)\n",
      "Requirement already satisfied: matplotlib>=3.2.0 in /opt/anaconda3/lib/python3.8/site-packages (from pandas_profiling) (3.5.1)\n",
      "Requirement already satisfied: numpy>=1.16.0 in /opt/anaconda3/lib/python3.8/site-packages (from pandas_profiling) (1.22.4)\n",
      "Requirement already satisfied: joblib~=1.1.0 in /opt/anaconda3/lib/python3.8/site-packages (from pandas_profiling) (1.1.0)\n",
      "Requirement already satisfied: requests>=2.24.0 in /opt/anaconda3/lib/python3.8/site-packages (from pandas_profiling) (2.28.1)\n",
      "Requirement already satisfied: tqdm>=4.48.2 in /opt/anaconda3/lib/python3.8/site-packages (from pandas_profiling) (4.64.0)\n",
      "Requirement already satisfied: missingno>=0.4.2 in /opt/anaconda3/lib/python3.8/site-packages (from pandas_profiling) (0.5.1)\n",
      "Requirement already satisfied: markupsafe~=2.1.1 in /opt/anaconda3/lib/python3.8/site-packages (from pandas_profiling) (2.1.1)\n",
      "Requirement already satisfied: multimethod>=1.4 in /opt/anaconda3/lib/python3.8/site-packages (from pandas_profiling) (1.8)\n",
      "Requirement already satisfied: htmlmin>=0.1.12 in /opt/anaconda3/lib/python3.8/site-packages (from pandas_profiling) (0.1.12)\n",
      "Requirement already satisfied: networkx>=2.4 in /opt/anaconda3/lib/python3.8/site-packages (from visions[type_image_path]==0.7.4->pandas_profiling) (2.8.4)\n",
      "Requirement already satisfied: attrs>=19.3.0 in /opt/anaconda3/lib/python3.8/site-packages (from visions[type_image_path]==0.7.4->pandas_profiling) (21.4.0)\n",
      "Requirement already satisfied: Pillow in /opt/anaconda3/lib/python3.8/site-packages (from visions[type_image_path]==0.7.4->pandas_profiling) (9.2.0)\n",
      "Requirement already satisfied: imagehash in /opt/anaconda3/lib/python3.8/site-packages (from visions[type_image_path]==0.7.4->pandas_profiling) (4.2.1)\n",
      "Requirement already satisfied: kiwisolver>=1.0.1 in /opt/anaconda3/lib/python3.8/site-packages (from matplotlib>=3.2.0->pandas_profiling) (1.4.2)\n",
      "Requirement already satisfied: packaging>=20.0 in /opt/anaconda3/lib/python3.8/site-packages (from matplotlib>=3.2.0->pandas_profiling) (21.3)\n",
      "Requirement already satisfied: python-dateutil>=2.7 in /opt/anaconda3/lib/python3.8/site-packages (from matplotlib>=3.2.0->pandas_profiling) (2.8.2)\n",
      "Requirement already satisfied: cycler>=0.10 in /opt/anaconda3/lib/python3.8/site-packages (from matplotlib>=3.2.0->pandas_profiling) (0.11.0)\n",
      "Requirement already satisfied: pyparsing>=2.2.1 in /opt/anaconda3/lib/python3.8/site-packages (from matplotlib>=3.2.0->pandas_profiling) (3.0.4)\n",
      "Requirement already satisfied: fonttools>=4.22.0 in /opt/anaconda3/lib/python3.8/site-packages (from matplotlib>=3.2.0->pandas_profiling) (4.25.0)\n",
      "Requirement already satisfied: pytz>=2020.1 in /opt/anaconda3/lib/python3.8/site-packages (from pandas!=1.0.0,!=1.0.1,!=1.0.2,!=1.1.0,>=0.25.3->pandas_profiling) (2022.1)\n",
      "Requirement already satisfied: typing-extensions>=3.7.4.3 in /opt/anaconda3/lib/python3.8/site-packages (from pydantic>=1.8.1->pandas_profiling) (4.3.0)\n",
      "Requirement already satisfied: certifi>=2017.4.17 in /opt/anaconda3/lib/python3.8/site-packages (from requests>=2.24.0->pandas_profiling) (2022.6.15)\n",
      "Requirement already satisfied: charset-normalizer<3,>=2 in /opt/anaconda3/lib/python3.8/site-packages (from requests>=2.24.0->pandas_profiling) (2.0.4)\n",
      "Requirement already satisfied: urllib3<1.27,>=1.21.1 in /opt/anaconda3/lib/python3.8/site-packages (from requests>=2.24.0->pandas_profiling) (1.26.11)\n",
      "Requirement already satisfied: idna<4,>=2.5 in /opt/anaconda3/lib/python3.8/site-packages (from requests>=2.24.0->pandas_profiling) (3.3)\n",
      "Requirement already satisfied: six>=1.5 in /opt/anaconda3/lib/python3.8/site-packages (from python-dateutil>=2.7->matplotlib>=3.2.0->pandas_profiling) (1.16.0)\n",
      "Requirement already satisfied: PyWavelets in /opt/anaconda3/lib/python3.8/site-packages (from imagehash->visions[type_image_path]==0.7.4->pandas_profiling) (1.3.0)\n"
     ]
    }
   ],
   "source": [
    "# Import necessary libraries\n",
    "\n",
    "# We will need pandas to import and manipulate our csv file, i.e., our dataset\n",
    "import pandas as pd\n",
    "!pip install pandas_profiling\n",
    "import pandas_profiling"
   ]
  },
  {
   "cell_type": "code",
   "execution_count": 82,
   "id": "89677da0",
   "metadata": {},
   "outputs": [],
   "source": [
    "# Read in the dataset\n",
    "df = pd.read_csv(\"data/customer_data.csv\")"
   ]
  },
  {
   "cell_type": "code",
   "execution_count": 83,
   "id": "cba4e77c",
   "metadata": {},
   "outputs": [
    {
     "data": {
      "text/html": [
       "<div>\n",
       "<style scoped>\n",
       "    .dataframe tbody tr th:only-of-type {\n",
       "        vertical-align: middle;\n",
       "    }\n",
       "\n",
       "    .dataframe tbody tr th {\n",
       "        vertical-align: top;\n",
       "    }\n",
       "\n",
       "    .dataframe thead th {\n",
       "        text-align: right;\n",
       "    }\n",
       "</style>\n",
       "<table border=\"1\" class=\"dataframe\">\n",
       "  <thead>\n",
       "    <tr style=\"text-align: right;\">\n",
       "      <th></th>\n",
       "      <th>Channel</th>\n",
       "      <th>Region</th>\n",
       "      <th>Fresh</th>\n",
       "      <th>Milk</th>\n",
       "      <th>Grocery</th>\n",
       "      <th>Frozen</th>\n",
       "      <th>Detergents_Paper</th>\n",
       "      <th>Delicassen</th>\n",
       "    </tr>\n",
       "  </thead>\n",
       "  <tbody>\n",
       "    <tr>\n",
       "      <th>0</th>\n",
       "      <td>2</td>\n",
       "      <td>3</td>\n",
       "      <td>12669</td>\n",
       "      <td>9656</td>\n",
       "      <td>7561</td>\n",
       "      <td>214</td>\n",
       "      <td>2674</td>\n",
       "      <td>1338</td>\n",
       "    </tr>\n",
       "    <tr>\n",
       "      <th>1</th>\n",
       "      <td>2</td>\n",
       "      <td>3</td>\n",
       "      <td>7057</td>\n",
       "      <td>9810</td>\n",
       "      <td>9568</td>\n",
       "      <td>1762</td>\n",
       "      <td>3293</td>\n",
       "      <td>1776</td>\n",
       "    </tr>\n",
       "    <tr>\n",
       "      <th>2</th>\n",
       "      <td>2</td>\n",
       "      <td>3</td>\n",
       "      <td>6353</td>\n",
       "      <td>8808</td>\n",
       "      <td>7684</td>\n",
       "      <td>2405</td>\n",
       "      <td>3516</td>\n",
       "      <td>7844</td>\n",
       "    </tr>\n",
       "    <tr>\n",
       "      <th>3</th>\n",
       "      <td>1</td>\n",
       "      <td>3</td>\n",
       "      <td>13265</td>\n",
       "      <td>1196</td>\n",
       "      <td>4221</td>\n",
       "      <td>6404</td>\n",
       "      <td>507</td>\n",
       "      <td>1788</td>\n",
       "    </tr>\n",
       "    <tr>\n",
       "      <th>4</th>\n",
       "      <td>2</td>\n",
       "      <td>3</td>\n",
       "      <td>22615</td>\n",
       "      <td>5410</td>\n",
       "      <td>7198</td>\n",
       "      <td>3915</td>\n",
       "      <td>1777</td>\n",
       "      <td>5185</td>\n",
       "    </tr>\n",
       "  </tbody>\n",
       "</table>\n",
       "</div>"
      ],
      "text/plain": [
       "   Channel  Region  Fresh  Milk  Grocery  Frozen  Detergents_Paper  Delicassen\n",
       "0        2       3  12669  9656     7561     214              2674        1338\n",
       "1        2       3   7057  9810     9568    1762              3293        1776\n",
       "2        2       3   6353  8808     7684    2405              3516        7844\n",
       "3        1       3  13265  1196     4221    6404               507        1788\n",
       "4        2       3  22615  5410     7198    3915              1777        5185"
      ]
     },
     "execution_count": 83,
     "metadata": {},
     "output_type": "execute_result"
    }
   ],
   "source": [
    "# head() function shows the first 5 rows in a dataset\n",
    "df.head()"
   ]
  },
  {
   "cell_type": "markdown",
   "id": "aae19873",
   "metadata": {},
   "source": [
    "## Pre-processing"
   ]
  },
  {
   "cell_type": "markdown",
   "id": "7136d45c",
   "metadata": {},
   "source": [
    "Let's have a closer look at our variables to see if we need to perform any pre-processing.\n",
    "It's clear that the variables 'Channel' and 'Region' have been label encoded (each value has been converted into a number), therefore the variance for these variables will be extremely low compared to the product variables. \n"
   ]
  },
  {
   "cell_type": "code",
   "execution_count": 96,
   "id": "7514d9a5",
   "metadata": {},
   "outputs": [
    {
     "data": {
      "text/html": [
       "<div>\n",
       "<style scoped>\n",
       "    .dataframe tbody tr th:only-of-type {\n",
       "        vertical-align: middle;\n",
       "    }\n",
       "\n",
       "    .dataframe tbody tr th {\n",
       "        vertical-align: top;\n",
       "    }\n",
       "\n",
       "    .dataframe thead th {\n",
       "        text-align: right;\n",
       "    }\n",
       "</style>\n",
       "<table border=\"1\" class=\"dataframe\">\n",
       "  <thead>\n",
       "    <tr style=\"text-align: right;\">\n",
       "      <th></th>\n",
       "      <th>Channel</th>\n",
       "      <th>Region</th>\n",
       "      <th>Fresh</th>\n",
       "      <th>Milk</th>\n",
       "      <th>Grocery</th>\n",
       "      <th>Frozen</th>\n",
       "      <th>Detergents_Paper</th>\n",
       "      <th>Delicassen</th>\n",
       "    </tr>\n",
       "  </thead>\n",
       "  <tbody>\n",
       "    <tr>\n",
       "      <th>count</th>\n",
       "      <td>440.000000</td>\n",
       "      <td>440.000000</td>\n",
       "      <td>440.000000</td>\n",
       "      <td>440.000000</td>\n",
       "      <td>440.000000</td>\n",
       "      <td>440.000000</td>\n",
       "      <td>440.000000</td>\n",
       "      <td>440.000000</td>\n",
       "    </tr>\n",
       "    <tr>\n",
       "      <th>mean</th>\n",
       "      <td>1.322727</td>\n",
       "      <td>2.543182</td>\n",
       "      <td>12000.297727</td>\n",
       "      <td>5796.265909</td>\n",
       "      <td>7951.277273</td>\n",
       "      <td>3071.931818</td>\n",
       "      <td>2881.493182</td>\n",
       "      <td>1524.870455</td>\n",
       "    </tr>\n",
       "    <tr>\n",
       "      <th>std</th>\n",
       "      <td>0.468052</td>\n",
       "      <td>0.774272</td>\n",
       "      <td>12647.328865</td>\n",
       "      <td>7380.377175</td>\n",
       "      <td>9503.162829</td>\n",
       "      <td>4854.673333</td>\n",
       "      <td>4767.854448</td>\n",
       "      <td>2820.105937</td>\n",
       "    </tr>\n",
       "    <tr>\n",
       "      <th>min</th>\n",
       "      <td>1.000000</td>\n",
       "      <td>1.000000</td>\n",
       "      <td>3.000000</td>\n",
       "      <td>55.000000</td>\n",
       "      <td>3.000000</td>\n",
       "      <td>25.000000</td>\n",
       "      <td>3.000000</td>\n",
       "      <td>3.000000</td>\n",
       "    </tr>\n",
       "    <tr>\n",
       "      <th>25%</th>\n",
       "      <td>1.000000</td>\n",
       "      <td>2.000000</td>\n",
       "      <td>3127.750000</td>\n",
       "      <td>1533.000000</td>\n",
       "      <td>2153.000000</td>\n",
       "      <td>742.250000</td>\n",
       "      <td>256.750000</td>\n",
       "      <td>408.250000</td>\n",
       "    </tr>\n",
       "    <tr>\n",
       "      <th>50%</th>\n",
       "      <td>1.000000</td>\n",
       "      <td>3.000000</td>\n",
       "      <td>8504.000000</td>\n",
       "      <td>3627.000000</td>\n",
       "      <td>4755.500000</td>\n",
       "      <td>1526.000000</td>\n",
       "      <td>816.500000</td>\n",
       "      <td>965.500000</td>\n",
       "    </tr>\n",
       "    <tr>\n",
       "      <th>75%</th>\n",
       "      <td>2.000000</td>\n",
       "      <td>3.000000</td>\n",
       "      <td>16933.750000</td>\n",
       "      <td>7190.250000</td>\n",
       "      <td>10655.750000</td>\n",
       "      <td>3554.250000</td>\n",
       "      <td>3922.000000</td>\n",
       "      <td>1820.250000</td>\n",
       "    </tr>\n",
       "    <tr>\n",
       "      <th>max</th>\n",
       "      <td>2.000000</td>\n",
       "      <td>3.000000</td>\n",
       "      <td>112151.000000</td>\n",
       "      <td>73498.000000</td>\n",
       "      <td>92780.000000</td>\n",
       "      <td>60869.000000</td>\n",
       "      <td>40827.000000</td>\n",
       "      <td>47943.000000</td>\n",
       "    </tr>\n",
       "  </tbody>\n",
       "</table>\n",
       "</div>"
      ],
      "text/plain": [
       "          Channel      Region          Fresh          Milk       Grocery  \\\n",
       "count  440.000000  440.000000     440.000000    440.000000    440.000000   \n",
       "mean     1.322727    2.543182   12000.297727   5796.265909   7951.277273   \n",
       "std      0.468052    0.774272   12647.328865   7380.377175   9503.162829   \n",
       "min      1.000000    1.000000       3.000000     55.000000      3.000000   \n",
       "25%      1.000000    2.000000    3127.750000   1533.000000   2153.000000   \n",
       "50%      1.000000    3.000000    8504.000000   3627.000000   4755.500000   \n",
       "75%      2.000000    3.000000   16933.750000   7190.250000  10655.750000   \n",
       "max      2.000000    3.000000  112151.000000  73498.000000  92780.000000   \n",
       "\n",
       "             Frozen  Detergents_Paper    Delicassen  \n",
       "count    440.000000        440.000000    440.000000  \n",
       "mean    3071.931818       2881.493182   1524.870455  \n",
       "std     4854.673333       4767.854448   2820.105937  \n",
       "min       25.000000          3.000000      3.000000  \n",
       "25%      742.250000        256.750000    408.250000  \n",
       "50%     1526.000000        816.500000    965.500000  \n",
       "75%     3554.250000       3922.000000   1820.250000  \n",
       "max    60869.000000      40827.000000  47943.000000  "
      ]
     },
     "execution_count": 96,
     "metadata": {},
     "output_type": "execute_result"
    }
   ],
   "source": [
    "df.describe()"
   ]
  },
  {
   "cell_type": "markdown",
   "id": "3f4c1d62",
   "metadata": {},
   "source": [
    "Remember, because k-means uses the Euclidean distance to calculate the distance between data points and the centroids, we need to ensure that the distance measure accords equal weight to each variable. We don't want to put more weight on variables that might have higher variance - i.e., the product variables. Therefore, we will need to standardise this dataset."
   ]
  },
  {
   "cell_type": "code",
   "execution_count": 121,
   "id": "eb2e0dde",
   "metadata": {},
   "outputs": [],
   "source": [
    "# Initialise scaler object using StandardScaler() class\n",
    "\n",
    "scaler = StandardScaler()\n",
    "\n",
    "# Use fit_transform method of scaler object and apply it to the dataframe\n",
    "\n",
    "scaled_df = scaler.fit_transform(df)"
   ]
  },
  {
   "cell_type": "code",
   "execution_count": 122,
   "id": "f5fb6a6c",
   "metadata": {},
   "outputs": [
    {
     "data": {
      "text/plain": [
       "0.2190722716918627"
      ]
     },
     "execution_count": 122,
     "metadata": {},
     "output_type": "execute_result"
    }
   ],
   "source": [
    "df.Channel.var()"
   ]
  },
  {
   "cell_type": "code",
   "execution_count": 123,
   "id": "7e9ab9ce",
   "metadata": {},
   "outputs": [
    {
     "data": {
      "text/plain": [
       "1.0"
      ]
     },
     "execution_count": 123,
     "metadata": {},
     "output_type": "execute_result"
    }
   ],
   "source": [
    "# Channel variance is now 1.0 -> scaled to unit variance\n",
    "\n",
    "scaled_df[:,0].var()"
   ]
  },
  {
   "cell_type": "code",
   "execution_count": 124,
   "id": "df828456",
   "metadata": {},
   "outputs": [
    {
     "data": {
      "text/plain": [
       "159954927.4214072"
      ]
     },
     "execution_count": 124,
     "metadata": {},
     "output_type": "execute_result"
    }
   ],
   "source": [
    "df.Fresh.var()"
   ]
  },
  {
   "cell_type": "code",
   "execution_count": 125,
   "id": "627c6fb3",
   "metadata": {},
   "outputs": [
    {
     "data": {
      "text/plain": [
       "1.0000000000000002"
      ]
     },
     "execution_count": 125,
     "metadata": {},
     "output_type": "execute_result"
    }
   ],
   "source": [
    "# Fresh variance is now around 1.0 \n",
    "\n",
    "scaled_df[:,2].var()"
   ]
  },
  {
   "cell_type": "code",
   "execution_count": 126,
   "id": "076f225b",
   "metadata": {},
   "outputs": [
    {
     "data": {
      "text/html": [
       "<div>\n",
       "<style scoped>\n",
       "    .dataframe tbody tr th:only-of-type {\n",
       "        vertical-align: middle;\n",
       "    }\n",
       "\n",
       "    .dataframe tbody tr th {\n",
       "        vertical-align: top;\n",
       "    }\n",
       "\n",
       "    .dataframe thead th {\n",
       "        text-align: right;\n",
       "    }\n",
       "</style>\n",
       "<table border=\"1\" class=\"dataframe\">\n",
       "  <thead>\n",
       "    <tr style=\"text-align: right;\">\n",
       "      <th></th>\n",
       "      <th>0</th>\n",
       "      <th>1</th>\n",
       "      <th>2</th>\n",
       "      <th>3</th>\n",
       "      <th>4</th>\n",
       "      <th>5</th>\n",
       "      <th>6</th>\n",
       "      <th>7</th>\n",
       "    </tr>\n",
       "  </thead>\n",
       "  <tbody>\n",
       "    <tr>\n",
       "      <th>count</th>\n",
       "      <td>4.400000e+02</td>\n",
       "      <td>4.400000e+02</td>\n",
       "      <td>4.400000e+02</td>\n",
       "      <td>4.400000e+02</td>\n",
       "      <td>4.400000e+02</td>\n",
       "      <td>4.400000e+02</td>\n",
       "      <td>4.400000e+02</td>\n",
       "      <td>4.400000e+02</td>\n",
       "    </tr>\n",
       "    <tr>\n",
       "      <th>mean</th>\n",
       "      <td>-2.452584e-16</td>\n",
       "      <td>-5.737834e-16</td>\n",
       "      <td>-2.422305e-17</td>\n",
       "      <td>-1.589638e-17</td>\n",
       "      <td>-6.030530e-17</td>\n",
       "      <td>1.135455e-17</td>\n",
       "      <td>-1.917658e-17</td>\n",
       "      <td>-8.276208e-17</td>\n",
       "    </tr>\n",
       "    <tr>\n",
       "      <th>std</th>\n",
       "      <td>1.001138e+00</td>\n",
       "      <td>1.001138e+00</td>\n",
       "      <td>1.001138e+00</td>\n",
       "      <td>1.001138e+00</td>\n",
       "      <td>1.001138e+00</td>\n",
       "      <td>1.001138e+00</td>\n",
       "      <td>1.001138e+00</td>\n",
       "      <td>1.001138e+00</td>\n",
       "    </tr>\n",
       "    <tr>\n",
       "      <th>min</th>\n",
       "      <td>-6.902971e-01</td>\n",
       "      <td>-1.995342e+00</td>\n",
       "      <td>-9.496831e-01</td>\n",
       "      <td>-7.787951e-01</td>\n",
       "      <td>-8.373344e-01</td>\n",
       "      <td>-6.283430e-01</td>\n",
       "      <td>-6.044165e-01</td>\n",
       "      <td>-5.402644e-01</td>\n",
       "    </tr>\n",
       "    <tr>\n",
       "      <th>25%</th>\n",
       "      <td>-6.902971e-01</td>\n",
       "      <td>-7.023369e-01</td>\n",
       "      <td>-7.023339e-01</td>\n",
       "      <td>-5.783063e-01</td>\n",
       "      <td>-6.108364e-01</td>\n",
       "      <td>-4.804306e-01</td>\n",
       "      <td>-5.511349e-01</td>\n",
       "      <td>-3.964005e-01</td>\n",
       "    </tr>\n",
       "    <tr>\n",
       "      <th>50%</th>\n",
       "      <td>-6.902971e-01</td>\n",
       "      <td>5.906683e-01</td>\n",
       "      <td>-2.767602e-01</td>\n",
       "      <td>-2.942580e-01</td>\n",
       "      <td>-3.366684e-01</td>\n",
       "      <td>-3.188045e-01</td>\n",
       "      <td>-4.336004e-01</td>\n",
       "      <td>-1.985766e-01</td>\n",
       "    </tr>\n",
       "    <tr>\n",
       "      <th>75%</th>\n",
       "      <td>1.448652e+00</td>\n",
       "      <td>5.906683e-01</td>\n",
       "      <td>3.905226e-01</td>\n",
       "      <td>1.890921e-01</td>\n",
       "      <td>2.849105e-01</td>\n",
       "      <td>9.946441e-02</td>\n",
       "      <td>2.184822e-01</td>\n",
       "      <td>1.048598e-01</td>\n",
       "    </tr>\n",
       "    <tr>\n",
       "      <th>max</th>\n",
       "      <td>1.448652e+00</td>\n",
       "      <td>5.906683e-01</td>\n",
       "      <td>7.927738e+00</td>\n",
       "      <td>9.183650e+00</td>\n",
       "      <td>8.936528e+00</td>\n",
       "      <td>1.191900e+01</td>\n",
       "      <td>7.967672e+00</td>\n",
       "      <td>1.647845e+01</td>\n",
       "    </tr>\n",
       "  </tbody>\n",
       "</table>\n",
       "</div>"
      ],
      "text/plain": [
       "                  0             1             2             3             4  \\\n",
       "count  4.400000e+02  4.400000e+02  4.400000e+02  4.400000e+02  4.400000e+02   \n",
       "mean  -2.452584e-16 -5.737834e-16 -2.422305e-17 -1.589638e-17 -6.030530e-17   \n",
       "std    1.001138e+00  1.001138e+00  1.001138e+00  1.001138e+00  1.001138e+00   \n",
       "min   -6.902971e-01 -1.995342e+00 -9.496831e-01 -7.787951e-01 -8.373344e-01   \n",
       "25%   -6.902971e-01 -7.023369e-01 -7.023339e-01 -5.783063e-01 -6.108364e-01   \n",
       "50%   -6.902971e-01  5.906683e-01 -2.767602e-01 -2.942580e-01 -3.366684e-01   \n",
       "75%    1.448652e+00  5.906683e-01  3.905226e-01  1.890921e-01  2.849105e-01   \n",
       "max    1.448652e+00  5.906683e-01  7.927738e+00  9.183650e+00  8.936528e+00   \n",
       "\n",
       "                  5             6             7  \n",
       "count  4.400000e+02  4.400000e+02  4.400000e+02  \n",
       "mean   1.135455e-17 -1.917658e-17 -8.276208e-17  \n",
       "std    1.001138e+00  1.001138e+00  1.001138e+00  \n",
       "min   -6.283430e-01 -6.044165e-01 -5.402644e-01  \n",
       "25%   -4.804306e-01 -5.511349e-01 -3.964005e-01  \n",
       "50%   -3.188045e-01 -4.336004e-01 -1.985766e-01  \n",
       "75%    9.946441e-02  2.184822e-01  1.048598e-01  \n",
       "max    1.191900e+01  7.967672e+00  1.647845e+01  "
      ]
     },
     "execution_count": 126,
     "metadata": {},
     "output_type": "execute_result"
    }
   ],
   "source": [
    "pd.DataFrame(scaled_df).describe()"
   ]
  },
  {
   "cell_type": "code",
   "execution_count": 119,
   "id": "0afaf0a2",
   "metadata": {},
   "outputs": [],
   "source": [
    "# When we used make_blobs() we are able to access ground truth labels. But in practice, it's rare to encounter datasets that have ground truth labels. This dataset certainly doesn't."
   ]
  },
  {
   "cell_type": "markdown",
   "id": "b355150c",
   "metadata": {},
   "source": [
    "## Initialising your k-means model"
   ]
  },
  {
   "cell_type": "code",
   "execution_count": 213,
   "id": "28499ca8",
   "metadata": {},
   "outputs": [],
   "source": [
    "kmeans = KMeans(\n",
    "    init=\"random\",\n",
    "    n_clusters=3,\n",
    "    n_init = 20,\n",
    "    max_iter=300,\n",
    "    random_state=0\n",
    ")"
   ]
  },
  {
   "cell_type": "code",
   "execution_count": 214,
   "id": "50b33101",
   "metadata": {},
   "outputs": [
    {
     "data": {
      "text/plain": [
       "KMeans(init='random', n_clusters=3, n_init=20, random_state=0)"
      ]
     },
     "execution_count": 214,
     "metadata": {},
     "output_type": "execute_result"
    }
   ],
   "source": [
    "kmeans.fit(scaled_df)"
   ]
  },
  {
   "cell_type": "code",
   "execution_count": 215,
   "id": "c6a77fca",
   "metadata": {},
   "outputs": [
    {
     "data": {
      "text/plain": [
       "2149.2839562217573"
      ]
     },
     "execution_count": 215,
     "metadata": {},
     "output_type": "execute_result"
    }
   ],
   "source": [
    "kmeans.inertia_"
   ]
  },
  {
   "cell_type": "markdown",
   "id": "7fae567e",
   "metadata": {},
   "source": [
    "## Evaluation: the elbow method"
   ]
  },
  {
   "cell_type": "markdown",
   "id": "278503bc",
   "metadata": {},
   "source": [
    "As we can see the lowest SSE produced from the algorithm runs, is quite high. This suggests that our current kmeans model is not a good fit for the data. We want to reduce this inertia value considerably. The inertia value is sensitive to the number of clusters that we use when running the algorithm. Therefore, to help find the optimum number of clusters, let's use the aforementioned elbow method. "
   ]
  },
  {
   "cell_type": "code",
   "execution_count": 216,
   "id": "05d9c569",
   "metadata": {},
   "outputs": [
    {
     "name": "stdout",
     "output_type": "stream",
     "text": [
      "KMeans(init='random', n_clusters=2, random_state=0)\n",
      "KMeans(init='random', n_clusters=3, random_state=0)\n",
      "KMeans(init='random', n_clusters=4, random_state=0)\n",
      "KMeans(init='random', n_clusters=5, random_state=0)\n",
      "KMeans(init='random', n_clusters=6, random_state=0)\n",
      "KMeans(init='random', n_clusters=7, random_state=0)\n",
      "KMeans(init='random', random_state=0)\n",
      "KMeans(init='random', n_clusters=9, random_state=0)\n",
      "KMeans(init='random', n_clusters=10, random_state=0)\n",
      "KMeans(init='random', n_clusters=11, random_state=0)\n",
      "KMeans(init='random', n_clusters=12, random_state=0)\n",
      "KMeans(init='random', n_clusters=13, random_state=0)\n",
      "KMeans(init='random', n_clusters=14, random_state=0)\n",
      "\n",
      "[2599.3855593561393, 2149.2839562217573, 1851.8408722743866, 1610.1065091401204, 1326.5643001924354, 1218.4764646621904, 1141.8948076298393, 1081.9559260341364, 1025.8094266490193, 965.6708968969313, 832.4788262187947, 783.0080417220904, 735.4303202088995]\n"
     ]
    }
   ],
   "source": [
    "kmeans_kwargs = {\n",
    "    \"init\": \"random\",\n",
    "    \"n_init\": 10,\n",
    "    \"max_iter\": 300,\n",
    "    \"random_state\": 0}\n",
    "\n",
    "\n",
    "\n",
    "# Here we create a variable 'sse' which contains an empty list\n",
    "\n",
    "sse = []\n",
    "\n",
    "# We then iterate through each k value, ranging from 1-10\n",
    "# Note: range() method does not include the end number in the result, that's why we do 1-11\n",
    "for k in range(2, 15):\n",
    "#     For each k, we instantiate the kmeans class \n",
    "# Here, the double asterix operator **  is used to unpack a dictionary of keyword arguments, kwargs\n",
    "# We use it to unpack kmeans_kwargs, which have passed to the KMeans function\n",
    "    kmeans = KMeans(n_clusters=k, **kmeans_kwargs)\n",
    "    print(kmeans)\n",
    "    kmeans.fit(scaled_df)\n",
    "    sse.append(kmeans.inertia_)\n",
    "    \n",
    "# Let's take a look at our SSE scores\n",
    "print(\"\")\n",
    "print(sse)\n"
   ]
  },
  {
   "cell_type": "code",
   "execution_count": 217,
   "id": "e626bc10",
   "metadata": {},
   "outputs": [
    {
     "data": {
      "image/png": "[encoded data removed]",
      "text/plain": [
       "<Figure size 432x288 with 1 Axes>"
      ]
     },
     "metadata": {},
     "output_type": "display_data"
    }
   ],
   "source": [
    "plt.style.use(\"fivethirtyeight\")\n",
    "plt.plot(range(2, 15), sse)\n",
    "plt.xticks(range(2, 15))\n",
    "plt.xlabel(\"Number of Clusters\")\n",
    "plt.ylabel(\"SSE\")\n",
    "plt.show()"
   ]
  },
  {
   "cell_type": "code",
   "execution_count": 218,
   "id": "607451e0",
   "metadata": {},
   "outputs": [
    {
     "data": {
      "text/plain": [
       "6"
      ]
     },
     "execution_count": 218,
     "metadata": {},
     "output_type": "execute_result"
    }
   ],
   "source": [
    "\n",
    "kl = KneeLocator(\n",
    "    range(2, 15), sse, curve=\"convex\", direction=\"decreasing\")\n",
    "\n",
    "\n",
    "# We can now access the 'elbow' variable\n",
    "kl.elbow"
   ]
  }
 ],
 "metadata": {
  "kernelspec": {
   "display_name": "Python 3 (ipykernel)",
   "language": "python",
   "name": "python3"
  },
  "language_info": {
   "codemirror_mode": {
    "name": "ipython",
    "version": 3
   },
   "file_extension": ".py",
   "mimetype": "text/x-python",
   "name": "python",
   "nbconvert_exporter": "python",
   "pygments_lexer": "ipython3",
   "version": "3.8.13"
  },
  "varInspector": {
   "cols": {
    "lenName": 16,
    "lenType": 16,
    "lenVar": 40
   },
   "kernels_config": {
    "python": {
     "delete_cmd_postfix": "",
     "delete_cmd_prefix": "del ",
     "library": "var_list.py",
     "varRefreshCmd": "print(var_dic_list())"
    },
    "r": {
     "delete_cmd_postfix": ") ",
     "delete_cmd_prefix": "rm(",
     "library": "var_list.r",
     "varRefreshCmd": "cat(var_dic_list()) "
    }
   },
   "types_to_exclude": [
    "module",
    "function",
    "builtin_function_or_method",
    "instance",
    "_Feature"
   ],
   "window_display": false
  }
 },
 "nbformat": 4,
 "nbformat_minor": 5
}

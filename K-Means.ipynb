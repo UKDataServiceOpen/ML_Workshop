{
 "cells": [
  {
   "cell_type": "markdown",
   "id": "ce96cc9b",
   "metadata": {},
   "source": [
    "## Based on this resource\n",
    "\n",
    "https://realpython.com/k-means-clustering-python/"
   ]
  },
  {
   "cell_type": "code",
   "execution_count": 32,
   "id": "d5d2e1a7",
   "metadata": {},
   "outputs": [
    {
     "name": "stdout",
     "output_type": "stream",
     "text": [
      "Package                            Version\n",
      "---------------------------------- -----------\n",
      "affinegap                          1.12\n",
      "alabaster                          0.7.12\n",
      "anaconda-client                    1.11.0\n",
      "anaconda-navigator                 2.3.0\n",
      "anaconda-project                   0.11.1\n",
      "anyio                              3.5.0\n",
      "applaunchservices                  0.3.0\n",
      "appnope                            0.1.2\n",
      "appscript                          1.1.2\n",
      "argh                               0.26.2\n",
      "argon2-cffi                        21.3.0\n",
      "argon2-cffi-bindings               21.2.0\n",
      "asn1crypto                         1.5.1\n",
      "astroid                            2.11.7\n",
      "astropy                            5.1\n",
      "asttokens                          2.0.5\n",
      "atomicwrites                       1.4.0\n",
      "attrs                              21.4.0\n",
      "autocorrect                        2.6.1\n",
      "autopep8                           1.5.6\n",
      "Babel                              2.9.1\n",
      "backcall                           0.2.0\n",
      "backports.functools-lru-cache      1.6.4\n",
      "backports.shutil-get-terminal-size 1.0.0\n",
      "backports.tempfile                 1.0\n",
      "backports.weakref                  1.0.post1\n",
      "beautifulsoup4                     4.11.1\n",
      "bio                                1.3.8\n",
      "biopython                          1.79\n",
      "biothings-client                   0.2.6\n",
      "bitarray                           2.5.1\n",
      "bkcharts                           0.2\n",
      "black                              22.6.0\n",
      "bleach                             4.1.0\n",
      "blis                               0.7.6\n",
      "bokeh                              2.4.3\n",
      "boto                               2.49.0\n",
      "Bottleneck                         1.3.5\n",
      "brotlipy                           0.7.0\n",
      "bs4                                0.0.1\n",
      "BTrees                             4.9.2\n",
      "catalogue                          2.0.6\n",
      "categorical-distance               1.9\n",
      "certifi                            2022.6.15\n",
      "cffi                               1.15.1\n",
      "chardet                            4.0.0\n",
      "charset-normalizer                 2.0.4\n",
      "click                              8.0.4\n",
      "cloudpickle                        2.0.0\n",
      "clyent                             1.2.2\n",
      "colorama                           0.4.5\n",
      "conda                              4.14.0\n",
      "conda-build                        3.21.4\n",
      "conda-content-trust                0.1.3\n",
      "conda-pack                         0.6.0\n",
      "conda-package-handling             1.8.1\n",
      "conda-repo-cli                     1.0.5\n",
      "conda-token                        0.4.0\n",
      "conda-verify                       3.4.2\n",
      "contextlib2                        0.6.0.post1\n",
      "cryptography                       37.0.1\n",
      "csvmatch                           1.20\n",
      "cycler                             0.11.0\n",
      "cymem                              2.0.6\n",
      "Cython                             0.29.30\n",
      "cytoolz                            0.11.0\n",
      "dask                               2022.7.0\n",
      "datetime-distance                  0.1.3\n",
      "debugpy                            1.5.1\n",
      "decorator                          5.1.1\n",
      "dedupe                             1.10.0\n",
      "dedupe-hcluster                    0.3.9\n",
      "dedupe-variable-datetime           0.1.5\n",
      "defusedxml                         0.7.1\n",
      "dexplot                            0.1.4\n",
      "diff-match-patch                   20200713\n",
      "dill                               0.3.4\n",
      "distributed                        2022.7.0\n",
      "docutils                           0.18.1\n",
      "DoubleMetaphone                    0.1\n",
      "en-core-web-lg                     3.2.0\n",
      "en-core-web-sm                     3.2.0\n",
      "entrypoints                        0.4\n",
      "et-xmlfile                         1.1.0\n",
      "executing                          0.8.3\n",
      "fastcache                          1.1.0\n",
      "fastcluster                        1.2.4\n",
      "fastjsonschema                     2.16.2\n",
      "filelock                           3.6.0\n",
      "flake8                             3.9.0\n",
      "Flask                              2.1.3\n",
      "fonttools                          4.25.0\n",
      "fsspec                             2022.7.1\n",
      "future                             0.18.2\n",
      "fuzzy-pandas                       0.1\n",
      "fuzzywuzzy                         0.18.0\n",
      "gensim                             4.2.0\n",
      "gevent                             21.8.0\n",
      "glob2                              0.7\n",
      "gmpy2                              2.1.2\n",
      "greenlet                           1.1.1\n",
      "h5py                               2.10.0\n",
      "haversine                          2.5.1\n",
      "HeapDict                           1.0.1\n",
      "highered                           0.2.1\n",
      "html5lib                           1.1\n",
      "htmlmin                            0.1.12\n",
      "idna                               3.3\n",
      "ImageHash                          4.2.1\n",
      "imageio                            2.19.3\n",
      "imagesize                          1.4.1\n",
      "importlib-metadata                 4.11.3\n",
      "importlib-resources                5.2.0\n",
      "iniconfig                          1.1.1\n",
      "intervaltree                       3.1.0\n",
      "ipykernel                          6.15.2\n",
      "ipython                            8.4.0\n",
      "ipython-genutils                   0.2.0\n",
      "ipywidgets                         7.6.5\n",
      "isort                              5.9.3\n",
      "itsdangerous                       2.0.1\n",
      "jdcal                              1.4.1\n",
      "jedi                               0.17.2\n",
      "jellyfish                          0.7.2\n",
      "Jinja2                             3.1.2\n",
      "joblib                             1.1.0\n",
      "json5                              0.9.6\n",
      "jsonschema                         4.4.0\n",
      "jupyter                            1.0.0\n",
      "jupyter-client                     7.2.2\n",
      "jupyter-console                    6.4.3\n",
      "jupyter-contrib-core               0.3.3\n",
      "jupyter-contrib-nbextensions       0.5.1\n",
      "jupyter-core                       4.10.0\n",
      "jupyter-highlight-selected-word    0.2.0\n",
      "jupyter-latex-envs                 1.4.6\n",
      "jupyter-nbextensions-configurator  0.4.1\n",
      "jupyter-server                     1.18.1\n",
      "jupyterlab                         3.4.4\n",
      "jupyterlab-pygments                0.1.2\n",
      "jupyterlab-server                  2.12.0\n",
      "jupyterlab-widgets                 1.0.0\n",
      "keyring                            23.4.0\n",
      "kiwisolver                         1.4.2\n",
      "kneed                              0.8.1\n",
      "langcodes                          3.3.0\n",
      "lazy-object-proxy                  1.6.0\n",
      "Levenshtein-search                 1.4.5\n",
      "libarchive-c                       2.9\n",
      "llvmlite                           0.38.0\n",
      "locket                             1.0.0\n",
      "lxml                               4.9.1\n",
      "lz4                                3.1.3\n",
      "MarkupSafe                         2.1.1\n",
      "matplotlib                         3.5.2\n",
      "matplotlib-inline                  0.1.6\n",
      "mccabe                             0.6.1\n",
      "missingno                          0.5.1\n",
      "mistune                            0.8.4\n",
      "mkl-fft                            1.3.1\n",
      "mkl-random                         1.2.2\n",
      "mkl-service                        2.4.0\n",
      "mock                               4.0.3\n",
      "more-itertools                     8.12.0\n",
      "mpmath                             1.2.1\n",
      "msal                               1.18.0\n",
      "msgpack                            1.0.3\n",
      "multimethod                        1.8\n",
      "multipledispatch                   0.6.0\n",
      "munkres                            1.1.4\n",
      "murmurhash                         1.0.6\n",
      "mygene                             3.2.2\n",
      "mypy-extensions                    0.4.3\n",
      "navigator-updater                  0.3.0\n",
      "nbclassic                          0.3.5\n",
      "nbclient                           0.5.13\n",
      "nbconvert                          6.5.0\n",
      "nbformat                           5.3.0\n",
      "nest-asyncio                       1.5.5\n",
      "networkx                           2.8.4\n",
      "nltk                               3.7\n",
      "nose                               1.3.7\n",
      "notebook                           6.4.12\n",
      "numba                              0.55.1\n",
      "numexpr                            2.8.3\n",
      "numpy                              1.22.4\n",
      "numpydoc                           1.4.0\n",
      "Office365-REST-Python-Client       2.3.12\n",
      "olefile                            0.46\n",
      "opencv-python                      4.5.5.62\n",
      "openpyxl                           3.0.10\n",
      "packaging                          21.3\n",
      "pandas                             1.4.3\n",
      "pandas-profiling                   3.2.0\n",
      "pandocfilters                      1.5.0\n",
      "parso                              0.7.0\n",
      "partd                              1.2.0\n",
      "path                               16.2.0\n",
      "pathlib2                           2.3.6\n",
      "pathspec                           0.9.0\n",
      "pathtools                          0.1.2\n",
      "pathy                              0.6.1\n",
      "patsy                              0.5.2\n",
      "pep8                               1.7.1\n",
      "persistent                         4.7.0\n",
      "pexpect                            4.8.0\n",
      "phik                               0.12.2\n",
      "pickleshare                        0.7.5\n",
      "Pillow                             9.2.0\n",
      "pip                                22.1.2\n",
      "pkginfo                            1.8.2\n",
      "platformdirs                       2.5.2\n",
      "plotly                             5.9.0\n",
      "pluggy                             1.0.0\n",
      "ply                                3.11\n",
      "preshed                            3.0.6\n",
      "progressbar2                       4.0.0\n",
      "prometheus-client                  0.14.1\n",
      "prompt-toolkit                     3.0.20\n",
      "psutil                             5.9.0\n",
      "ptyprocess                         0.7.0\n",
      "pure-eval                          0.2.2\n",
      "py                                 1.11.0\n",
      "pycodestyle                        2.6.0\n",
      "pycosat                            0.6.3\n",
      "pycparser                          2.21\n",
      "pycurl                             7.45.1\n",
      "pydantic                           1.8.2\n",
      "pydocstyle                         6.1.1\n",
      "pyerfa                             2.0.0\n",
      "pyflakes                           2.2.0\n",
      "pygam                              0.8.0\n",
      "Pygments                           2.11.2\n",
      "pyhacrf-datamade                   0.2.6\n",
      "PyJWT                              2.4.0\n",
      "PyLBFGS                            0.2.0.14\n",
      "pylint                             2.14.5\n",
      "pyls-black                         0.4.6\n",
      "pyls-spyder                        0.3.2\n",
      "pyobjc-core                        8.5\n",
      "pyobjc-framework-Cocoa             8.5\n",
      "pyobjc-framework-CoreServices      8.5\n",
      "pyobjc-framework-FSEvents          8.5\n",
      "pyodbc                             4.0.34\n",
      "pyOpenSSL                          22.0.0\n",
      "pyparsing                          3.0.9\n",
      "pyrsistent                         0.18.0\n",
      "PySocks                            1.7.1\n",
      "pytest                             7.1.2\n",
      "python-dateutil                    2.8.2\n",
      "python-jsonrpc-server              0.4.0\n",
      "python-language-server             0.36.2\n",
      "python-Levenshtein                 0.12.2\n",
      "python-tvrage                      0.1.4\n",
      "python-utils                       3.3.3\n",
      "pytz                               2022.1\n",
      "PyWavelets                         1.3.0\n",
      "PyYAML                             6.0\n",
      "pyzmq                              23.2.0\n",
      "QDarkStyle                         2.8.1\n",
      "QtAwesome                          1.0.3\n",
      "qtconsole                          5.3.2\n",
      "QtPy                               2.2.0\n",
      "regex                              2022.7.9\n",
      "requests                           2.28.1\n",
      "rlr                                2.4.6\n",
      "rope                               0.22.0\n",
      "Rtree                              0.9.7\n",
      "ruamel-yaml-conda                  0.15.100\n",
      "scikit-image                       0.19.2\n",
      "scikit-learn                       1.1.1\n",
      "scipy                              1.7.3\n",
      "seaborn                            0.11.2\n",
      "Send2Trash                         1.8.0\n",
      "setuptools                         63.4.1\n",
      "sharepoint                         0.4.2\n",
      "sharepy                            2.0.0\n",
      "sidetable                          0.9.0\n",
      "simplecosine                       1.2\n",
      "simplegeneric                      0.8.1\n",
      "singledispatch                     3.7.0\n",
      "six                                1.16.0\n",
      "sklearn                            0.0\n",
      "smart-open                         5.2.1\n",
      "sniffio                            1.2.0\n",
      "snowballstemmer                    2.2.0\n",
      "sortedcollections                  2.1.0\n",
      "sortedcontainers                   2.4.0\n",
      "soupsieve                          2.3.1\n",
      "spacy                              3.2.3\n",
      "spacy-legacy                       3.0.9\n",
      "spacy-loggers                      1.0.1\n",
      "Sphinx                             5.0.2\n",
      "sphinxcontrib-applehelp            1.0.2\n",
      "sphinxcontrib-devhelp              1.0.2\n",
      "sphinxcontrib-htmlhelp             2.0.0\n",
      "sphinxcontrib-jsmath               1.0.1\n",
      "sphinxcontrib-qthelp               1.0.3\n",
      "sphinxcontrib-serializinghtml      1.1.5\n",
      "sphinxcontrib-websupport           1.2.4\n",
      "spyder                             4.2.5\n",
      "spyder-kernels                     1.10.2\n",
      "SQLAlchemy                         1.4.39\n",
      "srsly                              2.4.2\n",
      "stack-data                         0.2.0\n",
      "statsmodels                        0.13.2\n",
      "sympy                              1.10.1\n",
      "tables                             3.6.1\n",
      "tangled-up-in-unicode              0.2.0\n",
      "tblib                              1.7.0\n",
      "tenacity                           8.0.1\n",
      "terminado                          0.13.1\n",
      "testpath                           0.6.0\n",
      "textblob                           0.17.1\n",
      "textdistance                       4.2.1\n",
      "thinc                              8.0.13\n",
      "threadpoolctl                      2.2.0\n",
      "three-merge                        0.1.1\n",
      "tifffile                           2020.10.1\n",
      "tinycss2                           1.1.1\n",
      "toml                               0.10.2\n",
      "tomli                              2.0.1\n",
      "tomlkit                            0.11.1\n",
      "toolz                              0.11.2\n",
      "tornado                            6.1\n",
      "tqdm                               4.64.0\n",
      "traitlets                          5.1.1\n",
      "typer                              0.4.0\n",
      "typing_extensions                  4.3.0\n",
      "ujson                              5.4.0\n",
      "unicodecsv                         0.14.1\n",
      "Unidecode                          1.1.1\n",
      "urllib3                            1.26.11\n",
      "utils                              1.0.1\n",
      "visions                            0.7.4\n",
      "voila                              0.3.5\n",
      "wasabi                             0.9.0\n",
      "watchdog                           1.0.2\n",
      "wcwidth                            0.2.5\n",
      "webencodings                       0.5.1\n",
      "websocket-client                   0.58.0\n",
      "websockets                         10.3\n",
      "Werkzeug                           2.0.3\n",
      "wheel                              0.37.1\n",
      "widgetsnbextension                 3.5.2\n",
      "wrapt                              1.14.1\n",
      "wurlitzer                          3.0.2\n",
      "xlrd                               2.0.1\n",
      "XlsxWriter                         3.0.3\n",
      "xlwings                            0.24.9\n",
      "xlwt                               1.3.0\n",
      "yapf                               0.31.0\n",
      "zict                               2.1.0\n",
      "zipp                               3.8.0\n",
      "zope.event                         4.5.0\n",
      "zope.index                         5.1.0\n",
      "zope.interface                     5.4.0\n"
     ]
    }
   ],
   "source": [
    "!pip list"
   ]
  },
  {
   "cell_type": "code",
   "execution_count": 1,
   "id": "8362c4b5",
   "metadata": {},
   "outputs": [],
   "source": [
    "# Let's start by insallting then importing some packages...\n",
    "\n",
    "# !pip install matplotlib\n",
    "# !pip install kneed\n",
    "# !pip install sklearn\n",
    "\n",
    "import matplotlib.pyplot as plt\n",
    "from kneed import KneeLocator\n",
    "from sklearn.datasets import make_blobs\n",
    "from sklearn.cluster import KMeans\n",
    "from sklearn.metrics import silhouette_score\n",
    "from sklearn.preprocessing import StandardScaler\n"
   ]
  },
  {
   "cell_type": "code",
   "execution_count": 2,
   "id": "ea73604a",
   "metadata": {},
   "outputs": [
    {
     "name": "stdout",
     "output_type": "stream",
     "text": [
      "python:             3.8.13\n"
     ]
    }
   ],
   "source": [
    "from platform import python_version \n",
    "print('python:            ',python_version())"
   ]
  },
  {
   "cell_type": "markdown",
   "id": "aa119433",
   "metadata": {},
   "source": [
    "## Step 1 - Let's generate some clusters"
   ]
  },
  {
   "cell_type": "markdown",
   "id": "b9fef268",
   "metadata": {},
   "source": [
    "First, we will use the scikit-learn function 'make_blobs', which is used to generate synthetic clusters. It uses the following parameters:\n",
    "\n",
    "* n_samples - total number of samples to generate\n",
    "* centres - the number of centroids to generate\n",
    "* random_state - if we set this to 'None' a random number will be generated each time we call on the function. But, if we set it to an integer e.g. 32, this allows for reproducible output each time we call on the function.\n",
    "* cluster_std - the standard deviation... but we won't worry about this too much for now"
   ]
  },
  {
   "cell_type": "code",
   "execution_count": 3,
   "id": "89d4ebc9",
   "metadata": {},
   "outputs": [],
   "source": [
    "features, true_labels = make_blobs(\n",
    "    n_samples=200,\n",
    "    centers=3,\n",
    "    cluster_std=2.75,\n",
    "    random_state=32\n",
    ")"
   ]
  },
  {
   "cell_type": "code",
   "execution_count": 4,
   "id": "fcc2c2b9",
   "metadata": {},
   "outputs": [
    {
     "data": {
      "text/plain": [
       "(200, 2)"
      ]
     },
     "execution_count": 4,
     "metadata": {},
     "output_type": "execute_result"
    }
   ],
   "source": [
    "features.shape"
   ]
  },
  {
   "cell_type": "code",
   "execution_count": 5,
   "id": "75c30568",
   "metadata": {},
   "outputs": [
    {
     "data": {
      "text/plain": [
       "numpy.ndarray"
      ]
     },
     "execution_count": 5,
     "metadata": {},
     "output_type": "execute_result"
    }
   ],
   "source": [
    "type(features)"
   ]
  },
  {
   "cell_type": "code",
   "execution_count": 6,
   "id": "10abd51d",
   "metadata": {},
   "outputs": [
    {
     "data": {
      "text/plain": [
       "<matplotlib.collections.PathCollection at 0x7fdec07689a0>"
      ]
     },
     "execution_count": 6,
     "metadata": {},
     "output_type": "execute_result"
    },
    {
     "data": {
      "image/png": "[encoded data removed]",
      "text/plain": [
       "<Figure size 640x480 with 1 Axes>"
      ]
     },
     "metadata": {},
     "output_type": "display_data"
    }
   ],
   "source": [
    "# we take the first column of our features array as our x value\n",
    "# the second column of our features array is our y value\n",
    "# the c parameter stands for colour - each dp coloured according to its true label\n",
    "# the s parameter denotes the marker size for the points\n",
    "\n",
    "\n",
    "plt.scatter(features[:,0], features[:,1], marker = \"o\", c = true_labels, s = 25, edgecolor = \"k\")\n"
   ]
  },
  {
   "cell_type": "code",
   "execution_count": 7,
   "id": "7c72af67",
   "metadata": {},
   "outputs": [
    {
     "data": {
      "text/plain": [
       "200"
      ]
     },
     "execution_count": 7,
     "metadata": {},
     "output_type": "execute_result"
    }
   ],
   "source": [
    "len(features)"
   ]
  },
  {
   "cell_type": "markdown",
   "id": "5ec90a8a",
   "metadata": {},
   "source": [
    "Let's take a closer look at the first 5 samples, starting with the features."
   ]
  },
  {
   "cell_type": "code",
   "execution_count": 8,
   "id": "c767f99d",
   "metadata": {},
   "outputs": [
    {
     "data": {
      "text/plain": [
       "array([[ 5.98141618, 10.51611954],\n",
       "       [ 4.44331872,  8.91046702],\n",
       "       [ 4.15174699,  5.22640696],\n",
       "       [ 2.24146988,  3.16161526],\n",
       "       [ 7.18004878, -1.57894707]])"
      ]
     },
     "execution_count": 8,
     "metadata": {},
     "output_type": "execute_result"
    }
   ],
   "source": [
    "features[:5]"
   ]
  },
  {
   "cell_type": "code",
   "execution_count": 9,
   "id": "cefbbe4a",
   "metadata": {},
   "outputs": [
    {
     "data": {
      "text/plain": [
       "array([2, 1, 1, 2, 0])"
      ]
     },
     "execution_count": 9,
     "metadata": {},
     "output_type": "execute_result"
    }
   ],
   "source": [
    "true_labels[:5]"
   ]
  },
  {
   "cell_type": "markdown",
   "id": "cf03885c",
   "metadata": {},
   "source": [
    "## Step 2 - Standardise the data"
   ]
  },
  {
   "cell_type": "markdown",
   "id": "522fd1f6",
   "metadata": {},
   "source": [
    "As we can see, we have an array containing 2 numerical values for each sample. \n",
    "\n",
    "When it comes to performing clustering on a given dataset, you must think carefully about your feature variables. \n",
    "\n",
    "Perhaps your dataset contains information on bank loans and customer data. It could contain a variable 'annual income' which ranges from £19,000 - £1,000,000, and another variable 'monthly debt' which ranges from £0 - £400,000. Therefore, we must change the values of these numeric columns in the dataset to ensure that they use a common scale, i.e., we standardise/normalise the data. In machine learning, this is referred to as 'feature scaling', and is especially important for clustering given that it is a distance-based algorithm.\n",
    "\n",
    "Because k-means uses the Euclidean distance to calculate the distance between data points and the centroids, we need to ensure that the distance measure accords equal weight to each variable. We don't want to put more weight on variables that might have higher variance. \n",
    "\n"
   ]
  },
  {
   "cell_type": "markdown",
   "id": "ef6e306c",
   "metadata": {},
   "source": [
    "To do this, we will use scikit-learn's preprocessing package which comes with a StandardScaler() class, which is a quick way to perform feature scaling."
   ]
  },
  {
   "cell_type": "code",
   "execution_count": 10,
   "id": "acaebcae",
   "metadata": {},
   "outputs": [],
   "source": [
    "scaler = StandardScaler()\n",
    "scaled_features = scaler.fit_transform(features)"
   ]
  },
  {
   "cell_type": "code",
   "execution_count": 11,
   "id": "8424b958",
   "metadata": {},
   "outputs": [
    {
     "data": {
      "text/plain": [
       "array([[ 0.41715892,  1.11834775],\n",
       "       [ 0.01079153,  0.83303204],\n",
       "       [-0.0662421 ,  0.17839464],\n",
       "       [-0.57093984, -0.1885076 ],\n",
       "       [ 0.73383924, -1.0308797 ]])"
      ]
     },
     "execution_count": 11,
     "metadata": {},
     "output_type": "execute_result"
    }
   ],
   "source": [
    "scaled_features[:5]"
   ]
  },
  {
   "cell_type": "markdown",
   "id": "f654dc9f",
   "metadata": {},
   "source": [
    "Let's look at the variance for each matrix column BEFORE and AFTER feature scaling..."
   ]
  },
  {
   "cell_type": "code",
   "execution_count": 12,
   "id": "ea4b2e53",
   "metadata": {},
   "outputs": [
    {
     "data": {
      "text/plain": [
       "14.326167418288941"
      ]
     },
     "execution_count": 12,
     "metadata": {},
     "output_type": "execute_result"
    }
   ],
   "source": [
    "# Variance for the first column before scaling...\n",
    "\n",
    "features[:,0].var()"
   ]
  },
  {
   "cell_type": "code",
   "execution_count": 13,
   "id": "311adca5",
   "metadata": {},
   "outputs": [
    {
     "data": {
      "text/plain": [
       "0.9999999999999993"
      ]
     },
     "execution_count": 13,
     "metadata": {},
     "output_type": "execute_result"
    }
   ],
   "source": [
    "# Variance for first column after scaling...\n",
    "\n",
    "scaled_features[:,0].var()"
   ]
  },
  {
   "cell_type": "code",
   "execution_count": 14,
   "id": "28c503ca",
   "metadata": {},
   "outputs": [
    {
     "data": {
      "text/plain": [
       "31.67027058298565"
      ]
     },
     "execution_count": 14,
     "metadata": {},
     "output_type": "execute_result"
    }
   ],
   "source": [
    "# Variance for the second column before scaling...\n",
    "\n",
    "features[:,1].var()"
   ]
  },
  {
   "cell_type": "code",
   "execution_count": 15,
   "id": "3ea6e809",
   "metadata": {},
   "outputs": [
    {
     "data": {
      "text/plain": [
       "1.0000000000000009"
      ]
     },
     "execution_count": 15,
     "metadata": {},
     "output_type": "execute_result"
    }
   ],
   "source": [
    "# Variance for second column after scaling...\n",
    "\n",
    "scaled_features[:,1].var()"
   ]
  },
  {
   "cell_type": "markdown",
   "id": "640f0ad4",
   "metadata": {},
   "source": [
    "## Step 3 - Clustering"
   ]
  },
  {
   "cell_type": "markdown",
   "id": "4adf54e7",
   "metadata": {},
   "source": [
    "Nice. We can see that the variance of the two columns are now both close to 1.0. Now that we have finished the preprocessing phase, we can start to cluster our data!\n",
    "\n",
    "To do this we can use the KMeans class which comes with the scikit-learn package. It has the following parameters:\n",
    "\n",
    "* init - this is the method for initialisation. The standard version of the k-means algorithm is implemented by setting init to \"random\".\n",
    "\n",
    "* n_clusters - this is the number of clusters that you want the algorithm to form, as well as the number of centroids to generate\n",
    "\n",
    "* n_iter - this refers to the number of iterations, i.e., the number of times that the k-means algorithm will be run. This is important because 2 runs can converge on different cluster assignments. The default behaviour for the scikit-learn algorithm is to perform ten k-means runs and then return the results of the one with the lowest sum of the squared error (SSE).\n",
    "\n",
    "* max_iter - this refers to the max number of iterations of the algorithm for a single run. "
   ]
  },
  {
   "cell_type": "code",
   "execution_count": 16,
   "id": "007b0e74",
   "metadata": {},
   "outputs": [],
   "source": [
    "kmeans = KMeans(\n",
    "    init=\"random\",\n",
    "    n_clusters=3,\n",
    "    n_init = 10,\n",
    "    max_iter=300,\n",
    "    random_state=32\n",
    ")"
   ]
  },
  {
   "cell_type": "markdown",
   "id": "77c64592",
   "metadata": {},
   "source": [
    "The fit function below comprises the training part of the modelling process. We fit our k-means estimator with our scaled_features. Then, once we have trained the model, we can then use it to make predictions on new unseen data. We will cover the predict feature later on in this demonstration. "
   ]
  },
  {
   "cell_type": "code",
   "execution_count": 17,
   "id": "8f111ea4",
   "metadata": {},
   "outputs": [
    {
     "data": {
      "text/html": [
       "<style>#sk-container-id-1 {color: black;background-color: white;}#sk-container-id-1 pre{padding: 0;}#sk-container-id-1 div.sk-toggleable {background-color: white;}#sk-container-id-1 label.sk-toggleable__label {cursor: pointer;display: block;width: 100%;margin-bottom: 0;padding: 0.3em;box-sizing: border-box;text-align: center;}#sk-container-id-1 label.sk-toggleable__label-arrow:before {content: \"▸\";float: left;margin-right: 0.25em;color: #696969;}#sk-container-id-1 label.sk-toggleable__label-arrow:hover:before {color: black;}#sk-container-id-1 div.sk-estimator:hover label.sk-toggleable__label-arrow:before {color: black;}#sk-container-id-1 div.sk-toggleable__content {max-height: 0;max-width: 0;overflow: hidden;text-align: left;background-color: #f0f8ff;}#sk-container-id-1 div.sk-toggleable__content pre {margin: 0.2em;color: black;border-radius: 0.25em;background-color: #f0f8ff;}#sk-container-id-1 input.sk-toggleable__control:checked~div.sk-toggleable__content {max-height: 200px;max-width: 100%;overflow: auto;}#sk-container-id-1 input.sk-toggleable__control:checked~label.sk-toggleable__label-arrow:before {content: \"▾\";}#sk-container-id-1 div.sk-estimator input.sk-toggleable__control:checked~label.sk-toggleable__label {background-color: #d4ebff;}#sk-container-id-1 div.sk-label input.sk-toggleable__control:checked~label.sk-toggleable__label {background-color: #d4ebff;}#sk-container-id-1 input.sk-hidden--visually {border: 0;clip: rect(1px 1px 1px 1px);clip: rect(1px, 1px, 1px, 1px);height: 1px;margin: -1px;overflow: hidden;padding: 0;position: absolute;width: 1px;}#sk-container-id-1 div.sk-estimator {font-family: monospace;background-color: #f0f8ff;border: 1px dotted black;border-radius: 0.25em;box-sizing: border-box;margin-bottom: 0.5em;}#sk-container-id-1 div.sk-estimator:hover {background-color: #d4ebff;}#sk-container-id-1 div.sk-parallel-item::after {content: \"\";width: 100%;border-bottom: 1px solid gray;flex-grow: 1;}#sk-container-id-1 div.sk-label:hover label.sk-toggleable__label {background-color: #d4ebff;}#sk-container-id-1 div.sk-serial::before {content: \"\";position: absolute;border-left: 1px solid gray;box-sizing: border-box;top: 0;bottom: 0;left: 50%;z-index: 0;}#sk-container-id-1 div.sk-serial {display: flex;flex-direction: column;align-items: center;background-color: white;padding-right: 0.2em;padding-left: 0.2em;position: relative;}#sk-container-id-1 div.sk-item {position: relative;z-index: 1;}#sk-container-id-1 div.sk-parallel {display: flex;align-items: stretch;justify-content: center;background-color: white;position: relative;}#sk-container-id-1 div.sk-item::before, #sk-container-id-1 div.sk-parallel-item::before {content: \"\";position: absolute;border-left: 1px solid gray;box-sizing: border-box;top: 0;bottom: 0;left: 50%;z-index: -1;}#sk-container-id-1 div.sk-parallel-item {display: flex;flex-direction: column;z-index: 1;position: relative;background-color: white;}#sk-container-id-1 div.sk-parallel-item:first-child::after {align-self: flex-end;width: 50%;}#sk-container-id-1 div.sk-parallel-item:last-child::after {align-self: flex-start;width: 50%;}#sk-container-id-1 div.sk-parallel-item:only-child::after {width: 0;}#sk-container-id-1 div.sk-dashed-wrapped {border: 1px dashed gray;margin: 0 0.4em 0.5em 0.4em;box-sizing: border-box;padding-bottom: 0.4em;background-color: white;}#sk-container-id-1 div.sk-label label {font-family: monospace;font-weight: bold;display: inline-block;line-height: 1.2em;}#sk-container-id-1 div.sk-label-container {text-align: center;}#sk-container-id-1 div.sk-container {/* jupyter's `normalize.less` sets `[hidden] { display: none; }` but bootstrap.min.css set `[hidden] { display: none !important; }` so we also need the `!important` here to be able to override the default hidden behavior on the sphinx rendered scikit-learn.org. See: https://github.com/scikit-learn/scikit-learn/issues/21755 */display: inline-block !important;position: relative;}#sk-container-id-1 div.sk-text-repr-fallback {display: none;}</style><div id=\"sk-container-id-1\" class=\"sk-top-container\"><div class=\"sk-text-repr-fallback\"><pre>KMeans(init=&#x27;random&#x27;, n_clusters=3, random_state=32)</pre><b>In a Jupyter environment, please rerun this cell to show the HTML representation or trust the notebook. <br />On GitHub, the HTML representation is unable to render, please try loading this page with nbviewer.org.</b></div><div class=\"sk-container\" hidden><div class=\"sk-item\"><div class=\"sk-estimator sk-toggleable\"><input class=\"sk-toggleable__control sk-hidden--visually\" id=\"sk-estimator-id-1\" type=\"checkbox\" checked><label for=\"sk-estimator-id-1\" class=\"sk-toggleable__label sk-toggleable__label-arrow\">KMeans</label><div class=\"sk-toggleable__content\"><pre>KMeans(init=&#x27;random&#x27;, n_clusters=3, random_state=32)</pre></div></div></div></div></div>"
      ],
      "text/plain": [
       "KMeans(init='random', n_clusters=3, random_state=32)"
      ]
     },
     "execution_count": 17,
     "metadata": {},
     "output_type": "execute_result"
    }
   ],
   "source": [
    "# This will perform 10 runs of the k-means algorithm on the data, with a maximum of 300 iterations per run\n",
    "\n",
    "\n",
    "kmeans.fit(scaled_features)"
   ]
  },
  {
   "cell_type": "markdown",
   "id": "dfa7a005",
   "metadata": {},
   "source": [
    "After fitting the data to the algorithm, we can then access statistics from the initilisation run. These statistics are from the run with the lowest SSE."
   ]
  },
  {
   "cell_type": "code",
   "execution_count": 18,
   "id": "c94bb4a2",
   "metadata": {},
   "outputs": [
    {
     "data": {
      "text/plain": [
       "124.31264130265872"
      ]
     },
     "execution_count": 18,
     "metadata": {},
     "output_type": "execute_result"
    }
   ],
   "source": [
    "# The lowest SSE value\n",
    "\n",
    "kmeans.inertia_"
   ]
  },
  {
   "cell_type": "code",
   "execution_count": 19,
   "id": "9b331193",
   "metadata": {},
   "outputs": [
    {
     "data": {
      "text/plain": [
       "array([[ 0.17788628,  0.42416043],\n",
       "       [ 0.86785736, -1.2135988 ],\n",
       "       [-1.07004213,  0.78200693]])"
      ]
     },
     "execution_count": 19,
     "metadata": {},
     "output_type": "execute_result"
    }
   ],
   "source": [
    "# Final locations of the centroid\n",
    "# These are the coordinates of the cluster centers\n",
    "\n",
    "kmeans.cluster_centers_"
   ]
  },
  {
   "cell_type": "code",
   "execution_count": null,
   "id": "56c60983",
   "metadata": {},
   "outputs": [],
   "source": [
    "# To do, plot cluster centers??"
   ]
  },
  {
   "cell_type": "code",
   "execution_count": 20,
   "id": "ba80e857",
   "metadata": {},
   "outputs": [
    {
     "data": {
      "text/plain": [
       "12"
      ]
     },
     "execution_count": 20,
     "metadata": {},
     "output_type": "execute_result"
    }
   ],
   "source": [
    "# The number of iterations required for the algorithm to converge\n",
    "\n",
    "kmeans.n_iter_"
   ]
  },
  {
   "cell_type": "code",
   "execution_count": 21,
   "id": "0a7b5744",
   "metadata": {},
   "outputs": [
    {
     "data": {
      "text/plain": [
       "array([0, 0, 0, 0, 1, 0, 0, 1, 1, 0, 2, 1, 0, 2, 2, 0, 2, 0, 1, 1, 1, 0,\n",
       "       1, 0, 2, 0, 1, 1, 2, 0, 0, 2, 1, 2, 0, 2, 1, 0, 1, 0, 0, 1, 0, 1,\n",
       "       0, 2, 2, 1, 1, 2, 0, 1, 0, 2, 1, 0, 1, 0, 1, 0, 1, 0, 1, 0, 1, 1,\n",
       "       2, 2, 2, 0, 0, 2, 2, 0, 0, 0, 2, 0, 1, 1, 0, 2, 2, 2, 0, 1, 0, 1,\n",
       "       2, 1, 2, 2, 0, 2, 0, 1, 2, 1, 1, 2, 0, 2, 2, 0, 1, 2, 0, 0, 1, 1,\n",
       "       1, 2, 0, 1, 1, 1, 1, 1, 0, 2, 2, 1, 1, 0, 2, 0, 2, 0, 1, 1, 1, 2,\n",
       "       2, 2, 2, 1, 0, 0, 2, 1, 2, 2, 2, 2, 2, 2, 2, 2, 2, 0, 0, 1, 1, 0,\n",
       "       0, 0, 0, 1, 2, 0, 1, 1, 2, 1, 1, 2, 0, 1, 2, 2, 0, 0, 0, 2, 0, 1,\n",
       "       1, 1, 0, 0, 2, 1, 1, 2, 1, 0, 2, 2, 2, 0, 1, 1, 2, 0, 0, 2, 2, 2,\n",
       "       1, 0], dtype=int32)"
      ]
     },
     "execution_count": 21,
     "metadata": {},
     "output_type": "execute_result"
    }
   ],
   "source": [
    "# Another attribute, labels_, shows us which cluster each datapoint in our scaled_features was assigned to\n",
    "# These are stored as a one-dimensional NumPy array\n",
    "\n",
    "kmeans.labels_"
   ]
  },
  {
   "cell_type": "code",
   "execution_count": 22,
   "id": "b4a04098",
   "metadata": {},
   "outputs": [
    {
     "data": {
      "text/plain": [
       "array([2, 1, 1, 2, 0])"
      ]
     },
     "execution_count": 22,
     "metadata": {},
     "output_type": "execute_result"
    }
   ],
   "source": [
    "true_labels[:5]"
   ]
  },
  {
   "cell_type": "code",
   "execution_count": 23,
   "id": "443e39cf",
   "metadata": {},
   "outputs": [
    {
     "data": {
      "text/plain": [
       "array([0, 0, 0, 0, 1], dtype=int32)"
      ]
     },
     "execution_count": 23,
     "metadata": {},
     "output_type": "execute_result"
    }
   ],
   "source": [
    "# The first 5 predicted labels\n",
    "\n",
    "kmeans.labels_[:5]"
   ]
  },
  {
   "cell_type": "markdown",
   "id": "1da1eda3",
   "metadata": {},
   "source": [
    "## How do we decide on the number of clusters?\n",
    "\n",
    "Determining the number of clusters is a crucial step in the k-means algorithm. You'll notice that each time you increment the number of clusters, the inertia value (the lowest SSE value found during the k-means runs) decreases. That's a good thing right? Not entirely, as at some point this becomes 'over-fitting', which describes a statistical model that fits exactly against its training data. When this happens our model becomes ineffective, as it cannot be used to effectively predict the classes of unseen data. \n",
    "\n",
    "As more centroids are added, the distance from each point to its closest centroid will decrease. So, how do we know when to stop adding centroids? How can we avoid 'over-fitting'.\n",
    "\n",
    "A common method used to evaluate the appropriate number of clusters is the 'elbow method'. This involves running k-means clustering on the dataset for a range of values for k (e.g. 1-10). Then, we compute the SSE values for each k. The elbow method reveals a 'sweet spot' where the SSE curve starts to bend, i.e, its elbow point. This is the point at which diminishing returns are no longer worth the additional cost, i.e., choose the number of clusters so that adding another one doesn't produce a significantly better modelling of the data. "
   ]
  },
  {
   "cell_type": "markdown",
   "id": "be739f6d",
   "metadata": {},
   "source": [
    "## The Elbow Method"
   ]
  },
  {
   "cell_type": "code",
   "execution_count": 26,
   "id": "42adae09",
   "metadata": {},
   "outputs": [
    {
     "name": "stdout",
     "output_type": "stream",
     "text": [
      "KMeans(init='random', n_clusters=2, random_state=32)\n",
      "KMeans(init='random', n_clusters=3, random_state=32)\n",
      "KMeans(init='random', n_clusters=4, random_state=32)\n",
      "KMeans(init='random', n_clusters=5, random_state=32)\n",
      "KMeans(init='random', n_clusters=6, random_state=32)\n",
      "KMeans(init='random', n_clusters=7, random_state=32)\n",
      "KMeans(init='random', random_state=32)\n",
      "KMeans(init='random', n_clusters=9, random_state=32)\n",
      "KMeans(init='random', n_clusters=10, random_state=32)\n",
      "\n",
      "[174.43675064706747, 124.31264130265872, 91.01408809786321, 76.32266299257657, 62.67242810297485, 52.670667644154, 45.10656092976744, 38.99694723134398, 35.144030848002274]\n"
     ]
    }
   ],
   "source": [
    "# Create a dictionary of keyword arguments\n",
    "\n",
    "kmeans_kwargs = {\n",
    "    \"init\": \"random\",\n",
    "    \"n_init\": 10,\n",
    "    \"max_iter\": 300,\n",
    "    \"random_state\": 32}\n",
    "\n",
    "\n",
    "\n",
    "# Here we create a variable 'sse' which contains an empty list\n",
    "\n",
    "sse = []\n",
    "\n",
    "# We then iterate through each k value, ranging from 1-10\n",
    "# Note: range() method does not include the end number in the result, that's why we do 1-11\n",
    "for k in range(2, 11):\n",
    "    \n",
    "#     For each k, we instantiate the kmeans class \n",
    "# Here, the double asterix operator **  is used to unpack a dictionary of keyword arguments, kwargs\n",
    "# We use it to unpack kmeans_kwargs, which have passed to the KMeans function\n",
    "    kmeans = KMeans(n_clusters=k, **kmeans_kwargs)\n",
    "    print(kmeans)\n",
    "    kmeans.fit(scaled_features)\n",
    "    sse.append(kmeans.inertia_)\n",
    "    \n",
    "# Let's take a look at our SSE scores\n",
    "print(\"\")\n",
    "print(sse)\n"
   ]
  },
  {
   "cell_type": "markdown",
   "id": "c9b2209a",
   "metadata": {},
   "source": [
    "We want to pick the value of k at the \"elbow\" i.e., the point after which the inertia starts decreasing in a linear fashion. In order to observe the elbow, we can plot the number of clusters and the corresponding sse values. In the graph below, it's rather subtle, but we can see that the elbow point is at k=4. In which case, we can determine that the appropriate number of clusters for this dataset, is 4."
   ]
  },
  {
   "cell_type": "code",
   "execution_count": 27,
   "id": "7b724c6e",
   "metadata": {},
   "outputs": [
    {
     "data": {
      "image/png": "[encoded data removed]",
      "text/plain": [
       "<Figure size 640x480 with 1 Axes>"
      ]
     },
     "metadata": {},
     "output_type": "display_data"
    }
   ],
   "source": [
    "plt.style.use(\"fivethirtyeight\")\n",
    "plt.plot(range(2, 11), sse)\n",
    "plt.xticks(range(2, 11))\n",
    "plt.xlabel(\"Number of Clusters\")\n",
    "plt.ylabel(\"SSE\")\n",
    "plt.show()"
   ]
  },
  {
   "cell_type": "markdown",
   "id": "8a8eed44",
   "metadata": {},
   "source": [
    "However, if the graph isn't all that clear, and you'd like a more straightforward means of acquiring the elbow point, you can use the 'kneed' Python package. This comes with the KneeLocator() class, which determines the elbow point programmatically. Let's see if it matches our observation that k should = 4."
   ]
  },
  {
   "cell_type": "code",
   "execution_count": 28,
   "id": "897df008",
   "metadata": {},
   "outputs": [
    {
     "data": {
      "text/plain": [
       "4"
      ]
     },
     "execution_count": 28,
     "metadata": {},
     "output_type": "execute_result"
    }
   ],
   "source": [
    "\n",
    "kl = KneeLocator(\n",
    "    range(2, 11), sse, curve=\"convex\", direction=\"decreasing\")\n",
    "\n",
    "\n",
    "# We can now access the 'elbow' variable\n",
    "kl.elbow"
   ]
  },
  {
   "cell_type": "code",
   "execution_count": 76,
   "id": "460b6d1c",
   "metadata": {},
   "outputs": [
    {
     "data": {
      "text/plain": [
       "array([2, 2, 2, 1, 0, 0, 2, 3, 0, 2, 1, 3, 2, 1, 1, 0, 1, 2, 0, 3, 0, 2,\n",
       "       0, 2, 1, 2, 3, 0, 1, 2, 2, 1, 0, 1, 0, 1, 0, 0, 3, 2, 2, 0, 2, 3,\n",
       "       0, 1, 1, 0, 0, 1, 2, 0, 2, 1, 0, 2, 3, 0, 0, 2, 0, 2, 3, 2, 0, 3,\n",
       "       1, 1, 1, 2, 2, 1, 1, 2, 2, 2, 1, 0, 3, 0, 2, 1, 1, 1, 2, 3, 2, 0,\n",
       "       1, 0, 1, 1, 2, 1, 2, 3, 1, 0, 3, 1, 0, 1, 1, 2, 3, 1, 2, 2, 0, 3,\n",
       "       0, 1, 2, 3, 3, 3, 0, 0, 2, 1, 1, 0, 3, 2, 1, 2, 1, 2, 0, 0, 3, 2,\n",
       "       1, 1, 1, 3, 2, 0, 1, 3, 1, 1, 1, 1, 1, 1, 1, 1, 1, 2, 1, 3, 0, 0,\n",
       "       2, 2, 2, 0, 1, 0, 0, 3, 1, 0, 3, 1, 2, 0, 1, 1, 2, 2, 2, 1, 2, 3,\n",
       "       0, 0, 2, 2, 1, 0, 0, 1, 3, 2, 1, 1, 1, 2, 3, 3, 1, 2, 2, 1, 1, 1,\n",
       "       3, 2], dtype=int32)"
      ]
     },
     "execution_count": 76,
     "metadata": {},
     "output_type": "execute_result"
    }
   ],
   "source": [
    "kmeans = KMeans(n_clusters=4, **kmeans_kwargs)\n",
    "kmeans.fit(scaled_features)\n",
    "\n",
    "kmeans.labels_"
   ]
  },
  {
   "cell_type": "markdown",
   "id": "7fe1d253",
   "metadata": {},
   "source": [
    "Now that we have determined the optimal number of clusters, let's plot our data again.\n",
    "The red stars represent the centroids of our 4 clusters."
   ]
  },
  {
   "cell_type": "code",
   "execution_count": 77,
   "id": "29c19a17",
   "metadata": {},
   "outputs": [
    {
     "data": {
      "text/plain": [
       "<matplotlib.collections.PathCollection at 0x7fdee2696130>"
      ]
     },
     "execution_count": 77,
     "metadata": {},
     "output_type": "execute_result"
    },
    {
     "data": {
      "image/png": "[encoded data removed]",
      "text/plain": [
       "<Figure size 640x480 with 1 Axes>"
      ]
     },
     "metadata": {},
     "output_type": "display_data"
    }
   ],
   "source": [
    "plt.scatter(scaled_features[:,0], scaled_features[:,1], marker = \"o\", c = kmeans.labels_, s = 25, edgecolor = \"k\")\n",
    "plt.scatter(kmeans.cluster_centers_[:,0], kmeans.cluster_centers_[:,1], c = 'red', marker = '*')"
   ]
  },
  {
   "cell_type": "code",
   "execution_count": 83,
   "id": "c6d20665",
   "metadata": {},
   "outputs": [
    {
     "data": {
      "text/html": [
       "<div>\n",
       "<style scoped>\n",
       "    .dataframe tbody tr th:only-of-type {\n",
       "        vertical-align: middle;\n",
       "    }\n",
       "\n",
       "    .dataframe tbody tr th {\n",
       "        vertical-align: top;\n",
       "    }\n",
       "\n",
       "    .dataframe thead th {\n",
       "        text-align: right;\n",
       "    }\n",
       "</style>\n",
       "<table border=\"1\" class=\"dataframe\">\n",
       "  <thead>\n",
       "    <tr style=\"text-align: right;\">\n",
       "      <th></th>\n",
       "      <th>actual</th>\n",
       "      <th>prediction</th>\n",
       "    </tr>\n",
       "  </thead>\n",
       "  <tbody>\n",
       "    <tr>\n",
       "      <th>0</th>\n",
       "      <td>0</td>\n",
       "      <td>0</td>\n",
       "    </tr>\n",
       "    <tr>\n",
       "      <th>1</th>\n",
       "      <td>0</td>\n",
       "      <td>0</td>\n",
       "    </tr>\n",
       "    <tr>\n",
       "      <th>2</th>\n",
       "      <td>0</td>\n",
       "      <td>0</td>\n",
       "    </tr>\n",
       "    <tr>\n",
       "      <th>3</th>\n",
       "      <td>0</td>\n",
       "      <td>0</td>\n",
       "    </tr>\n",
       "    <tr>\n",
       "      <th>4</th>\n",
       "      <td>1</td>\n",
       "      <td>1</td>\n",
       "    </tr>\n",
       "    <tr>\n",
       "      <th>...</th>\n",
       "      <td>...</td>\n",
       "      <td>...</td>\n",
       "    </tr>\n",
       "    <tr>\n",
       "      <th>195</th>\n",
       "      <td>0</td>\n",
       "      <td>0</td>\n",
       "    </tr>\n",
       "    <tr>\n",
       "      <th>196</th>\n",
       "      <td>0</td>\n",
       "      <td>0</td>\n",
       "    </tr>\n",
       "    <tr>\n",
       "      <th>197</th>\n",
       "      <td>0</td>\n",
       "      <td>0</td>\n",
       "    </tr>\n",
       "    <tr>\n",
       "      <th>198</th>\n",
       "      <td>1</td>\n",
       "      <td>1</td>\n",
       "    </tr>\n",
       "    <tr>\n",
       "      <th>199</th>\n",
       "      <td>0</td>\n",
       "      <td>0</td>\n",
       "    </tr>\n",
       "  </tbody>\n",
       "</table>\n",
       "<p>200 rows × 2 columns</p>\n",
       "</div>"
      ],
      "text/plain": [
       "     actual  prediction\n",
       "0         0           0\n",
       "1         0           0\n",
       "2         0           0\n",
       "3         0           0\n",
       "4         1           1\n",
       "..      ...         ...\n",
       "195       0           0\n",
       "196       0           0\n",
       "197       0           0\n",
       "198       1           1\n",
       "199       0           0\n",
       "\n",
       "[200 rows x 2 columns]"
      ]
     },
     "execution_count": 83,
     "metadata": {},
     "output_type": "execute_result"
    }
   ],
   "source": [
    "# We will need pandas to import and manipulate our csv file, i.e., our dataset\n",
    "import pandas as pd\n",
    "\n",
    "correct = 0\n",
    "\n",
    "prediction = kmeans.predict(scaled_features)\n",
    "\n",
    "pred_df = pd.DataFrame({'actual': kmeans.labels_, 'prediction': prediction})\n",
    "pred_df\n"
   ]
  },
  {
   "cell_type": "code",
   "execution_count": 84,
   "id": "7fd2c6f0",
   "metadata": {},
   "outputs": [
    {
     "name": "stdout",
     "output_type": "stream",
     "text": [
      "1.0\n"
     ]
    }
   ],
   "source": [
    "\n",
    "\n",
    "for i in range(len(kmeans.labels_)):\n",
    "    if prediction[i] == kmeans.labels_[i]:\n",
    "        correct += 1\n",
    "        \n",
    "print(correct/len(kmeans.labels_))"
   ]
  },
  {
   "cell_type": "markdown",
   "id": "65ad6dd6",
   "metadata": {},
   "source": [
    "## K-Means Clustering on Customer Dataset\n",
    "\n",
    "Now that we've covered the basics of the k-means algorithm using our rather lifeless blobs of points, let's explore some real-world data!\n",
    "\n",
    "The dataset that we are going to use contains information on customers of a wholesale distributor. It includes the annual spending on a range of product categories. Let's see if we can use k-means clustering to segment/group these customers based on their spending habits."
   ]
  },
  {
   "cell_type": "code",
   "execution_count": 85,
   "id": "90e36a15",
   "metadata": {},
   "outputs": [],
   "source": [
    "# Import necessary libraries\n",
    "\n",
    "# We will need pandas to import and manipulate our csv file, i.e., our dataset\n",
    "import pandas as pd\n",
    "# !pip install pandas_profiling\n",
    "import pandas_profiling"
   ]
  },
  {
   "cell_type": "code",
   "execution_count": 86,
   "id": "89677da0",
   "metadata": {},
   "outputs": [],
   "source": [
    "# Read in the dataset\n",
    "df = pd.read_csv(\"data/customer_data.csv\")"
   ]
  },
  {
   "cell_type": "code",
   "execution_count": 87,
   "id": "048eb865",
   "metadata": {},
   "outputs": [
    {
     "data": {
      "text/html": [
       "<div>\n",
       "<style scoped>\n",
       "    .dataframe tbody tr th:only-of-type {\n",
       "        vertical-align: middle;\n",
       "    }\n",
       "\n",
       "    .dataframe tbody tr th {\n",
       "        vertical-align: top;\n",
       "    }\n",
       "\n",
       "    .dataframe thead th {\n",
       "        text-align: right;\n",
       "    }\n",
       "</style>\n",
       "<table border=\"1\" class=\"dataframe\">\n",
       "  <thead>\n",
       "    <tr style=\"text-align: right;\">\n",
       "      <th></th>\n",
       "      <th>Channel</th>\n",
       "      <th>Region</th>\n",
       "      <th>Fresh</th>\n",
       "      <th>Milk</th>\n",
       "      <th>Grocery</th>\n",
       "      <th>Frozen</th>\n",
       "      <th>Detergents_Paper</th>\n",
       "      <th>Delicassen</th>\n",
       "    </tr>\n",
       "  </thead>\n",
       "  <tbody>\n",
       "    <tr>\n",
       "      <th>0</th>\n",
       "      <td>2</td>\n",
       "      <td>3</td>\n",
       "      <td>12669</td>\n",
       "      <td>9656</td>\n",
       "      <td>7561</td>\n",
       "      <td>214</td>\n",
       "      <td>2674</td>\n",
       "      <td>1338</td>\n",
       "    </tr>\n",
       "    <tr>\n",
       "      <th>1</th>\n",
       "      <td>2</td>\n",
       "      <td>3</td>\n",
       "      <td>7057</td>\n",
       "      <td>9810</td>\n",
       "      <td>9568</td>\n",
       "      <td>1762</td>\n",
       "      <td>3293</td>\n",
       "      <td>1776</td>\n",
       "    </tr>\n",
       "    <tr>\n",
       "      <th>2</th>\n",
       "      <td>2</td>\n",
       "      <td>3</td>\n",
       "      <td>6353</td>\n",
       "      <td>8808</td>\n",
       "      <td>7684</td>\n",
       "      <td>2405</td>\n",
       "      <td>3516</td>\n",
       "      <td>7844</td>\n",
       "    </tr>\n",
       "    <tr>\n",
       "      <th>3</th>\n",
       "      <td>1</td>\n",
       "      <td>3</td>\n",
       "      <td>13265</td>\n",
       "      <td>1196</td>\n",
       "      <td>4221</td>\n",
       "      <td>6404</td>\n",
       "      <td>507</td>\n",
       "      <td>1788</td>\n",
       "    </tr>\n",
       "    <tr>\n",
       "      <th>4</th>\n",
       "      <td>2</td>\n",
       "      <td>3</td>\n",
       "      <td>22615</td>\n",
       "      <td>5410</td>\n",
       "      <td>7198</td>\n",
       "      <td>3915</td>\n",
       "      <td>1777</td>\n",
       "      <td>5185</td>\n",
       "    </tr>\n",
       "  </tbody>\n",
       "</table>\n",
       "</div>"
      ],
      "text/plain": [
       "   Channel  Region  Fresh  Milk  Grocery  Frozen  Detergents_Paper  Delicassen\n",
       "0        2       3  12669  9656     7561     214              2674        1338\n",
       "1        2       3   7057  9810     9568    1762              3293        1776\n",
       "2        2       3   6353  8808     7684    2405              3516        7844\n",
       "3        1       3  13265  1196     4221    6404               507        1788\n",
       "4        2       3  22615  5410     7198    3915              1777        5185"
      ]
     },
     "execution_count": 87,
     "metadata": {},
     "output_type": "execute_result"
    }
   ],
   "source": [
    "# head() function shows the first 5 rows in a dataset\n",
    "df.head()"
   ]
  },
  {
   "cell_type": "markdown",
   "id": "a2f0d710",
   "metadata": {},
   "source": [
    "## Pre-processing"
   ]
  },
  {
   "cell_type": "markdown",
   "id": "66a3671f",
   "metadata": {},
   "source": [
    "Let's have a closer look at our variables to see if we need to perform any pre-processing.\n",
    "It's clear that the variables 'Channel' and 'Region' have been label encoded (each value has been converted into a number), therefore the variance for these variables will be extremely low compared to the product variables. \n"
   ]
  },
  {
   "cell_type": "code",
   "execution_count": 88,
   "id": "0289853d",
   "metadata": {},
   "outputs": [
    {
     "data": {
      "text/html": [
       "<div>\n",
       "<style scoped>\n",
       "    .dataframe tbody tr th:only-of-type {\n",
       "        vertical-align: middle;\n",
       "    }\n",
       "\n",
       "    .dataframe tbody tr th {\n",
       "        vertical-align: top;\n",
       "    }\n",
       "\n",
       "    .dataframe thead th {\n",
       "        text-align: right;\n",
       "    }\n",
       "</style>\n",
       "<table border=\"1\" class=\"dataframe\">\n",
       "  <thead>\n",
       "    <tr style=\"text-align: right;\">\n",
       "      <th></th>\n",
       "      <th>Channel</th>\n",
       "      <th>Region</th>\n",
       "      <th>Fresh</th>\n",
       "      <th>Milk</th>\n",
       "      <th>Grocery</th>\n",
       "      <th>Frozen</th>\n",
       "      <th>Detergents_Paper</th>\n",
       "      <th>Delicassen</th>\n",
       "    </tr>\n",
       "  </thead>\n",
       "  <tbody>\n",
       "    <tr>\n",
       "      <th>count</th>\n",
       "      <td>440.000000</td>\n",
       "      <td>440.000000</td>\n",
       "      <td>440.000000</td>\n",
       "      <td>440.000000</td>\n",
       "      <td>440.000000</td>\n",
       "      <td>440.000000</td>\n",
       "      <td>440.000000</td>\n",
       "      <td>440.000000</td>\n",
       "    </tr>\n",
       "    <tr>\n",
       "      <th>mean</th>\n",
       "      <td>1.322727</td>\n",
       "      <td>2.543182</td>\n",
       "      <td>12000.297727</td>\n",
       "      <td>5796.265909</td>\n",
       "      <td>7951.277273</td>\n",
       "      <td>3071.931818</td>\n",
       "      <td>2881.493182</td>\n",
       "      <td>1524.870455</td>\n",
       "    </tr>\n",
       "    <tr>\n",
       "      <th>std</th>\n",
       "      <td>0.468052</td>\n",
       "      <td>0.774272</td>\n",
       "      <td>12647.328865</td>\n",
       "      <td>7380.377175</td>\n",
       "      <td>9503.162829</td>\n",
       "      <td>4854.673333</td>\n",
       "      <td>4767.854448</td>\n",
       "      <td>2820.105937</td>\n",
       "    </tr>\n",
       "    <tr>\n",
       "      <th>min</th>\n",
       "      <td>1.000000</td>\n",
       "      <td>1.000000</td>\n",
       "      <td>3.000000</td>\n",
       "      <td>55.000000</td>\n",
       "      <td>3.000000</td>\n",
       "      <td>25.000000</td>\n",
       "      <td>3.000000</td>\n",
       "      <td>3.000000</td>\n",
       "    </tr>\n",
       "    <tr>\n",
       "      <th>25%</th>\n",
       "      <td>1.000000</td>\n",
       "      <td>2.000000</td>\n",
       "      <td>3127.750000</td>\n",
       "      <td>1533.000000</td>\n",
       "      <td>2153.000000</td>\n",
       "      <td>742.250000</td>\n",
       "      <td>256.750000</td>\n",
       "      <td>408.250000</td>\n",
       "    </tr>\n",
       "    <tr>\n",
       "      <th>50%</th>\n",
       "      <td>1.000000</td>\n",
       "      <td>3.000000</td>\n",
       "      <td>8504.000000</td>\n",
       "      <td>3627.000000</td>\n",
       "      <td>4755.500000</td>\n",
       "      <td>1526.000000</td>\n",
       "      <td>816.500000</td>\n",
       "      <td>965.500000</td>\n",
       "    </tr>\n",
       "    <tr>\n",
       "      <th>75%</th>\n",
       "      <td>2.000000</td>\n",
       "      <td>3.000000</td>\n",
       "      <td>16933.750000</td>\n",
       "      <td>7190.250000</td>\n",
       "      <td>10655.750000</td>\n",
       "      <td>3554.250000</td>\n",
       "      <td>3922.000000</td>\n",
       "      <td>1820.250000</td>\n",
       "    </tr>\n",
       "    <tr>\n",
       "      <th>max</th>\n",
       "      <td>2.000000</td>\n",
       "      <td>3.000000</td>\n",
       "      <td>112151.000000</td>\n",
       "      <td>73498.000000</td>\n",
       "      <td>92780.000000</td>\n",
       "      <td>60869.000000</td>\n",
       "      <td>40827.000000</td>\n",
       "      <td>47943.000000</td>\n",
       "    </tr>\n",
       "  </tbody>\n",
       "</table>\n",
       "</div>"
      ],
      "text/plain": [
       "          Channel      Region          Fresh          Milk       Grocery  \\\n",
       "count  440.000000  440.000000     440.000000    440.000000    440.000000   \n",
       "mean     1.322727    2.543182   12000.297727   5796.265909   7951.277273   \n",
       "std      0.468052    0.774272   12647.328865   7380.377175   9503.162829   \n",
       "min      1.000000    1.000000       3.000000     55.000000      3.000000   \n",
       "25%      1.000000    2.000000    3127.750000   1533.000000   2153.000000   \n",
       "50%      1.000000    3.000000    8504.000000   3627.000000   4755.500000   \n",
       "75%      2.000000    3.000000   16933.750000   7190.250000  10655.750000   \n",
       "max      2.000000    3.000000  112151.000000  73498.000000  92780.000000   \n",
       "\n",
       "             Frozen  Detergents_Paper    Delicassen  \n",
       "count    440.000000        440.000000    440.000000  \n",
       "mean    3071.931818       2881.493182   1524.870455  \n",
       "std     4854.673333       4767.854448   2820.105937  \n",
       "min       25.000000          3.000000      3.000000  \n",
       "25%      742.250000        256.750000    408.250000  \n",
       "50%     1526.000000        816.500000    965.500000  \n",
       "75%     3554.250000       3922.000000   1820.250000  \n",
       "max    60869.000000      40827.000000  47943.000000  "
      ]
     },
     "execution_count": 88,
     "metadata": {},
     "output_type": "execute_result"
    }
   ],
   "source": [
    "df.describe()"
   ]
  },
  {
   "cell_type": "markdown",
   "id": "3fba9bda",
   "metadata": {},
   "source": [
    "Remember, because k-means uses the Euclidean distance to calculate the distance between data points and the centroids, we need to ensure that the distance measure accords equal weight to each variable. We don't want to put more weight on variables that might have higher variance - i.e., the product variables. Therefore, we will need to standardise this dataset."
   ]
  },
  {
   "cell_type": "code",
   "execution_count": 89,
   "id": "96daaba5",
   "metadata": {},
   "outputs": [],
   "source": [
    "# Initialise scaler object using StandardScaler() class\n",
    "\n",
    "scaler = StandardScaler()\n",
    "\n",
    "# Use fit_transform method of scaler object and apply it to the dataframe\n",
    "\n",
    "scaled_df = scaler.fit_transform(df)"
   ]
  },
  {
   "cell_type": "code",
   "execution_count": 90,
   "id": "bdef15a9",
   "metadata": {},
   "outputs": [
    {
     "data": {
      "text/plain": [
       "0.2190722716918627"
      ]
     },
     "execution_count": 90,
     "metadata": {},
     "output_type": "execute_result"
    }
   ],
   "source": [
    "# Channel variance before scaling\n",
    "\n",
    "df.Channel.var()"
   ]
  },
  {
   "cell_type": "code",
   "execution_count": 91,
   "id": "5401a355",
   "metadata": {},
   "outputs": [
    {
     "data": {
      "text/plain": [
       "1.0"
      ]
     },
     "execution_count": 91,
     "metadata": {},
     "output_type": "execute_result"
    }
   ],
   "source": [
    "# Channel variance is now 1.0 -> scaled to unit variance\n",
    "\n",
    "scaled_df[:,0].var()"
   ]
  },
  {
   "cell_type": "code",
   "execution_count": 92,
   "id": "0203473c",
   "metadata": {},
   "outputs": [
    {
     "data": {
      "text/plain": [
       "159954927.4214072"
      ]
     },
     "execution_count": 92,
     "metadata": {},
     "output_type": "execute_result"
    }
   ],
   "source": [
    "df.Fresh.var()"
   ]
  },
  {
   "cell_type": "code",
   "execution_count": 93,
   "id": "36fe290c",
   "metadata": {},
   "outputs": [
    {
     "data": {
      "text/plain": [
       "1.0000000000000002"
      ]
     },
     "execution_count": 93,
     "metadata": {},
     "output_type": "execute_result"
    }
   ],
   "source": [
    "# Fresh variance is now around 1.0 \n",
    "\n",
    "scaled_df[:,2].var()"
   ]
  },
  {
   "cell_type": "code",
   "execution_count": 94,
   "id": "091ebfd5",
   "metadata": {},
   "outputs": [
    {
     "data": {
      "text/html": [
       "<div>\n",
       "<style scoped>\n",
       "    .dataframe tbody tr th:only-of-type {\n",
       "        vertical-align: middle;\n",
       "    }\n",
       "\n",
       "    .dataframe tbody tr th {\n",
       "        vertical-align: top;\n",
       "    }\n",
       "\n",
       "    .dataframe thead th {\n",
       "        text-align: right;\n",
       "    }\n",
       "</style>\n",
       "<table border=\"1\" class=\"dataframe\">\n",
       "  <thead>\n",
       "    <tr style=\"text-align: right;\">\n",
       "      <th></th>\n",
       "      <th>0</th>\n",
       "      <th>1</th>\n",
       "      <th>2</th>\n",
       "      <th>3</th>\n",
       "      <th>4</th>\n",
       "      <th>5</th>\n",
       "      <th>6</th>\n",
       "      <th>7</th>\n",
       "    </tr>\n",
       "  </thead>\n",
       "  <tbody>\n",
       "    <tr>\n",
       "      <th>count</th>\n",
       "      <td>4.400000e+02</td>\n",
       "      <td>4.400000e+02</td>\n",
       "      <td>4.400000e+02</td>\n",
       "      <td>4.400000e+02</td>\n",
       "      <td>4.400000e+02</td>\n",
       "      <td>4.400000e+02</td>\n",
       "      <td>4.400000e+02</td>\n",
       "      <td>4.400000e+02</td>\n",
       "    </tr>\n",
       "    <tr>\n",
       "      <th>mean</th>\n",
       "      <td>-2.452584e-16</td>\n",
       "      <td>-5.737834e-16</td>\n",
       "      <td>-2.422305e-17</td>\n",
       "      <td>-1.589638e-17</td>\n",
       "      <td>-6.030530e-17</td>\n",
       "      <td>1.135455e-17</td>\n",
       "      <td>-1.917658e-17</td>\n",
       "      <td>-8.276208e-17</td>\n",
       "    </tr>\n",
       "    <tr>\n",
       "      <th>std</th>\n",
       "      <td>1.001138e+00</td>\n",
       "      <td>1.001138e+00</td>\n",
       "      <td>1.001138e+00</td>\n",
       "      <td>1.001138e+00</td>\n",
       "      <td>1.001138e+00</td>\n",
       "      <td>1.001138e+00</td>\n",
       "      <td>1.001138e+00</td>\n",
       "      <td>1.001138e+00</td>\n",
       "    </tr>\n",
       "    <tr>\n",
       "      <th>min</th>\n",
       "      <td>-6.902971e-01</td>\n",
       "      <td>-1.995342e+00</td>\n",
       "      <td>-9.496831e-01</td>\n",
       "      <td>-7.787951e-01</td>\n",
       "      <td>-8.373344e-01</td>\n",
       "      <td>-6.283430e-01</td>\n",
       "      <td>-6.044165e-01</td>\n",
       "      <td>-5.402644e-01</td>\n",
       "    </tr>\n",
       "    <tr>\n",
       "      <th>25%</th>\n",
       "      <td>-6.902971e-01</td>\n",
       "      <td>-7.023369e-01</td>\n",
       "      <td>-7.023339e-01</td>\n",
       "      <td>-5.783063e-01</td>\n",
       "      <td>-6.108364e-01</td>\n",
       "      <td>-4.804306e-01</td>\n",
       "      <td>-5.511349e-01</td>\n",
       "      <td>-3.964005e-01</td>\n",
       "    </tr>\n",
       "    <tr>\n",
       "      <th>50%</th>\n",
       "      <td>-6.902971e-01</td>\n",
       "      <td>5.906683e-01</td>\n",
       "      <td>-2.767602e-01</td>\n",
       "      <td>-2.942580e-01</td>\n",
       "      <td>-3.366684e-01</td>\n",
       "      <td>-3.188045e-01</td>\n",
       "      <td>-4.336004e-01</td>\n",
       "      <td>-1.985766e-01</td>\n",
       "    </tr>\n",
       "    <tr>\n",
       "      <th>75%</th>\n",
       "      <td>1.448652e+00</td>\n",
       "      <td>5.906683e-01</td>\n",
       "      <td>3.905226e-01</td>\n",
       "      <td>1.890921e-01</td>\n",
       "      <td>2.849105e-01</td>\n",
       "      <td>9.946441e-02</td>\n",
       "      <td>2.184822e-01</td>\n",
       "      <td>1.048598e-01</td>\n",
       "    </tr>\n",
       "    <tr>\n",
       "      <th>max</th>\n",
       "      <td>1.448652e+00</td>\n",
       "      <td>5.906683e-01</td>\n",
       "      <td>7.927738e+00</td>\n",
       "      <td>9.183650e+00</td>\n",
       "      <td>8.936528e+00</td>\n",
       "      <td>1.191900e+01</td>\n",
       "      <td>7.967672e+00</td>\n",
       "      <td>1.647845e+01</td>\n",
       "    </tr>\n",
       "  </tbody>\n",
       "</table>\n",
       "</div>"
      ],
      "text/plain": [
       "                  0             1             2             3             4  \\\n",
       "count  4.400000e+02  4.400000e+02  4.400000e+02  4.400000e+02  4.400000e+02   \n",
       "mean  -2.452584e-16 -5.737834e-16 -2.422305e-17 -1.589638e-17 -6.030530e-17   \n",
       "std    1.001138e+00  1.001138e+00  1.001138e+00  1.001138e+00  1.001138e+00   \n",
       "min   -6.902971e-01 -1.995342e+00 -9.496831e-01 -7.787951e-01 -8.373344e-01   \n",
       "25%   -6.902971e-01 -7.023369e-01 -7.023339e-01 -5.783063e-01 -6.108364e-01   \n",
       "50%   -6.902971e-01  5.906683e-01 -2.767602e-01 -2.942580e-01 -3.366684e-01   \n",
       "75%    1.448652e+00  5.906683e-01  3.905226e-01  1.890921e-01  2.849105e-01   \n",
       "max    1.448652e+00  5.906683e-01  7.927738e+00  9.183650e+00  8.936528e+00   \n",
       "\n",
       "                  5             6             7  \n",
       "count  4.400000e+02  4.400000e+02  4.400000e+02  \n",
       "mean   1.135455e-17 -1.917658e-17 -8.276208e-17  \n",
       "std    1.001138e+00  1.001138e+00  1.001138e+00  \n",
       "min   -6.283430e-01 -6.044165e-01 -5.402644e-01  \n",
       "25%   -4.804306e-01 -5.511349e-01 -3.964005e-01  \n",
       "50%   -3.188045e-01 -4.336004e-01 -1.985766e-01  \n",
       "75%    9.946441e-02  2.184822e-01  1.048598e-01  \n",
       "max    1.191900e+01  7.967672e+00  1.647845e+01  "
      ]
     },
     "execution_count": 94,
     "metadata": {},
     "output_type": "execute_result"
    }
   ],
   "source": [
    "pd.DataFrame(scaled_df).describe()"
   ]
  },
  {
   "cell_type": "code",
   "execution_count": null,
   "id": "287f88b2",
   "metadata": {},
   "outputs": [],
   "source": [
    "# When we used make_blobs() we are able to access ground truth labels. But in practice, it's rare to encounter datasets that have ground truth labels. This dataset certainly doesn't."
   ]
  },
  {
   "cell_type": "markdown",
   "id": "0e1823f4",
   "metadata": {},
   "source": [
    "## Initialising your k-means model"
   ]
  },
  {
   "cell_type": "code",
   "execution_count": 95,
   "id": "046b382e",
   "metadata": {},
   "outputs": [],
   "source": [
    "kmeans = KMeans(\n",
    "    init=\"random\",\n",
    "    n_clusters=3,\n",
    "    n_init = 10,\n",
    "    max_iter=300,\n",
    "    random_state=0\n",
    ")"
   ]
  },
  {
   "cell_type": "code",
   "execution_count": 96,
   "id": "39f419a6",
   "metadata": {},
   "outputs": [
    {
     "data": {
      "text/html": [
       "<style>#sk-container-id-2 {color: black;background-color: white;}#sk-container-id-2 pre{padding: 0;}#sk-container-id-2 div.sk-toggleable {background-color: white;}#sk-container-id-2 label.sk-toggleable__label {cursor: pointer;display: block;width: 100%;margin-bottom: 0;padding: 0.3em;box-sizing: border-box;text-align: center;}#sk-container-id-2 label.sk-toggleable__label-arrow:before {content: \"▸\";float: left;margin-right: 0.25em;color: #696969;}#sk-container-id-2 label.sk-toggleable__label-arrow:hover:before {color: black;}#sk-container-id-2 div.sk-estimator:hover label.sk-toggleable__label-arrow:before {color: black;}#sk-container-id-2 div.sk-toggleable__content {max-height: 0;max-width: 0;overflow: hidden;text-align: left;background-color: #f0f8ff;}#sk-container-id-2 div.sk-toggleable__content pre {margin: 0.2em;color: black;border-radius: 0.25em;background-color: #f0f8ff;}#sk-container-id-2 input.sk-toggleable__control:checked~div.sk-toggleable__content {max-height: 200px;max-width: 100%;overflow: auto;}#sk-container-id-2 input.sk-toggleable__control:checked~label.sk-toggleable__label-arrow:before {content: \"▾\";}#sk-container-id-2 div.sk-estimator input.sk-toggleable__control:checked~label.sk-toggleable__label {background-color: #d4ebff;}#sk-container-id-2 div.sk-label input.sk-toggleable__control:checked~label.sk-toggleable__label {background-color: #d4ebff;}#sk-container-id-2 input.sk-hidden--visually {border: 0;clip: rect(1px 1px 1px 1px);clip: rect(1px, 1px, 1px, 1px);height: 1px;margin: -1px;overflow: hidden;padding: 0;position: absolute;width: 1px;}#sk-container-id-2 div.sk-estimator {font-family: monospace;background-color: #f0f8ff;border: 1px dotted black;border-radius: 0.25em;box-sizing: border-box;margin-bottom: 0.5em;}#sk-container-id-2 div.sk-estimator:hover {background-color: #d4ebff;}#sk-container-id-2 div.sk-parallel-item::after {content: \"\";width: 100%;border-bottom: 1px solid gray;flex-grow: 1;}#sk-container-id-2 div.sk-label:hover label.sk-toggleable__label {background-color: #d4ebff;}#sk-container-id-2 div.sk-serial::before {content: \"\";position: absolute;border-left: 1px solid gray;box-sizing: border-box;top: 0;bottom: 0;left: 50%;z-index: 0;}#sk-container-id-2 div.sk-serial {display: flex;flex-direction: column;align-items: center;background-color: white;padding-right: 0.2em;padding-left: 0.2em;position: relative;}#sk-container-id-2 div.sk-item {position: relative;z-index: 1;}#sk-container-id-2 div.sk-parallel {display: flex;align-items: stretch;justify-content: center;background-color: white;position: relative;}#sk-container-id-2 div.sk-item::before, #sk-container-id-2 div.sk-parallel-item::before {content: \"\";position: absolute;border-left: 1px solid gray;box-sizing: border-box;top: 0;bottom: 0;left: 50%;z-index: -1;}#sk-container-id-2 div.sk-parallel-item {display: flex;flex-direction: column;z-index: 1;position: relative;background-color: white;}#sk-container-id-2 div.sk-parallel-item:first-child::after {align-self: flex-end;width: 50%;}#sk-container-id-2 div.sk-parallel-item:last-child::after {align-self: flex-start;width: 50%;}#sk-container-id-2 div.sk-parallel-item:only-child::after {width: 0;}#sk-container-id-2 div.sk-dashed-wrapped {border: 1px dashed gray;margin: 0 0.4em 0.5em 0.4em;box-sizing: border-box;padding-bottom: 0.4em;background-color: white;}#sk-container-id-2 div.sk-label label {font-family: monospace;font-weight: bold;display: inline-block;line-height: 1.2em;}#sk-container-id-2 div.sk-label-container {text-align: center;}#sk-container-id-2 div.sk-container {/* jupyter's `normalize.less` sets `[hidden] { display: none; }` but bootstrap.min.css set `[hidden] { display: none !important; }` so we also need the `!important` here to be able to override the default hidden behavior on the sphinx rendered scikit-learn.org. See: https://github.com/scikit-learn/scikit-learn/issues/21755 */display: inline-block !important;position: relative;}#sk-container-id-2 div.sk-text-repr-fallback {display: none;}</style><div id=\"sk-container-id-2\" class=\"sk-top-container\"><div class=\"sk-text-repr-fallback\"><pre>KMeans(init=&#x27;random&#x27;, n_clusters=3, random_state=0)</pre><b>In a Jupyter environment, please rerun this cell to show the HTML representation or trust the notebook. <br />On GitHub, the HTML representation is unable to render, please try loading this page with nbviewer.org.</b></div><div class=\"sk-container\" hidden><div class=\"sk-item\"><div class=\"sk-estimator sk-toggleable\"><input class=\"sk-toggleable__control sk-hidden--visually\" id=\"sk-estimator-id-2\" type=\"checkbox\" checked><label for=\"sk-estimator-id-2\" class=\"sk-toggleable__label sk-toggleable__label-arrow\">KMeans</label><div class=\"sk-toggleable__content\"><pre>KMeans(init=&#x27;random&#x27;, n_clusters=3, random_state=0)</pre></div></div></div></div></div>"
      ],
      "text/plain": [
       "KMeans(init='random', n_clusters=3, random_state=0)"
      ]
     },
     "execution_count": 96,
     "metadata": {},
     "output_type": "execute_result"
    }
   ],
   "source": [
    "kmeans.fit(scaled_df)"
   ]
  },
  {
   "cell_type": "code",
   "execution_count": 97,
   "id": "9048cdbf",
   "metadata": {},
   "outputs": [
    {
     "data": {
      "text/plain": [
       "2149.2839562217587"
      ]
     },
     "execution_count": 97,
     "metadata": {},
     "output_type": "execute_result"
    }
   ],
   "source": [
    "kmeans.inertia_"
   ]
  },
  {
   "cell_type": "markdown",
   "id": "649733c7",
   "metadata": {},
   "source": [
    "## Evaluation: the elbow method"
   ]
  },
  {
   "cell_type": "markdown",
   "id": "5a8a6e64",
   "metadata": {},
   "source": [
    "As we can see the lowest SSE produced from the algorithm runs, is quite high. This suggests that our current kmeans model is not a good fit for the data. We want to reduce this inertia value considerably. The inertia value is sensitive to the number of clusters that we use when running the algorithm. Therefore, to help find the optimum number of clusters, let's use the aforementioned elbow method. "
   ]
  },
  {
   "cell_type": "code",
   "execution_count": 98,
   "id": "5bc0b628",
   "metadata": {},
   "outputs": [
    {
     "name": "stdout",
     "output_type": "stream",
     "text": [
      "KMeans(init='random', n_clusters=2, random_state=0)\n",
      "KMeans(init='random', n_clusters=3, random_state=0)\n",
      "KMeans(init='random', n_clusters=4, random_state=0)\n",
      "KMeans(init='random', n_clusters=5, random_state=0)\n",
      "KMeans(init='random', n_clusters=6, random_state=0)\n",
      "KMeans(init='random', n_clusters=7, random_state=0)\n",
      "KMeans(init='random', random_state=0)\n",
      "KMeans(init='random', n_clusters=9, random_state=0)\n",
      "KMeans(init='random', n_clusters=10, random_state=0)\n",
      "KMeans(init='random', n_clusters=11, random_state=0)\n",
      "KMeans(init='random', n_clusters=12, random_state=0)\n",
      "KMeans(init='random', n_clusters=13, random_state=0)\n",
      "KMeans(init='random', n_clusters=14, random_state=0)\n",
      "\n",
      "[2599.38555935614, 2149.2839562217587, 1851.8408722743848, 1610.1065091401197, 1326.564300192436, 1218.4764646621918, 1141.8948076298402, 1081.955926034137, 1025.8094266490193, 965.6708968969319, 832.4788262187943, 783.0080417220908, 735.4303202089]\n"
     ]
    }
   ],
   "source": [
    "kmeans_kwargs = {\n",
    "    \"init\": \"random\",\n",
    "    \"n_init\": 10,\n",
    "    \"max_iter\": 300,\n",
    "    \"random_state\": 0}\n",
    "\n",
    "\n",
    "\n",
    "# Here we create a variable 'sse' which contains an empty list\n",
    "\n",
    "sse = []\n",
    "\n",
    "# We then iterate through each k value, ranging from 1-10\n",
    "# Note: range() method does not include the end number in the result, that's why we do 1-11\n",
    "for k in range(2, 15):\n",
    "#     For each k, we instantiate the kmeans class \n",
    "\n",
    "# Here, the double asterix operator **  is used to unpack a dictionary of keyword arguments, kwargs\n",
    "# We use it to unpack kmeans_kwargs, which have passed to the KMeans function\n",
    "    kmeans = KMeans(n_clusters=k, **kmeans_kwargs)\n",
    "    print(kmeans)\n",
    "    kmeans.fit(scaled_df)\n",
    "    sse.append(kmeans.inertia_)\n",
    "    \n",
    "# Let's take a look at our SSE scores\n",
    "print(\"\")\n",
    "print(sse)\n"
   ]
  },
  {
   "cell_type": "code",
   "execution_count": 99,
   "id": "d8fb2ac5",
   "metadata": {},
   "outputs": [
    {
     "data": {
      "image/png": "[encoded data removed]",
      "text/plain": [
       "<Figure size 640x480 with 1 Axes>"
      ]
     },
     "metadata": {},
     "output_type": "display_data"
    }
   ],
   "source": [
    "plt.style.use(\"fivethirtyeight\")\n",
    "plt.plot(range(2, 15), sse)\n",
    "plt.xticks(range(2, 15))\n",
    "plt.xlabel(\"Number of Clusters\")\n",
    "plt.ylabel(\"SSE\")\n",
    "plt.show()"
   ]
  },
  {
   "cell_type": "code",
   "execution_count": 102,
   "id": "7ae4beda",
   "metadata": {},
   "outputs": [
    {
     "data": {
      "text/plain": [
       "6"
      ]
     },
     "execution_count": 102,
     "metadata": {},
     "output_type": "execute_result"
    }
   ],
   "source": [
    "\n",
    "kl = KneeLocator(\n",
    "    range(2, 15), sse, curve=\"convex\", direction=\"decreasing\")\n",
    "\n",
    "\n",
    "# We can now access the 'elbow' variable\n",
    "kl.elbow"
   ]
  },
  {
   "cell_type": "markdown",
   "id": "05fc76b2",
   "metadata": {},
   "source": [
    "## Let's build the model with the optimal clusters, k=6"
   ]
  },
  {
   "cell_type": "code",
   "execution_count": 103,
   "id": "6c542884",
   "metadata": {},
   "outputs": [],
   "source": [
    "kmeans = KMeans(\n",
    "    init=\"random\",\n",
    "    n_clusters=6,\n",
    "    n_init = 10,\n",
    "    max_iter=300,\n",
    "    random_state=0\n",
    ")"
   ]
  },
  {
   "cell_type": "code",
   "execution_count": 104,
   "id": "7e1ee242",
   "metadata": {},
   "outputs": [
    {
     "data": {
      "text/html": [
       "<style>#sk-container-id-3 {color: black;background-color: white;}#sk-container-id-3 pre{padding: 0;}#sk-container-id-3 div.sk-toggleable {background-color: white;}#sk-container-id-3 label.sk-toggleable__label {cursor: pointer;display: block;width: 100%;margin-bottom: 0;padding: 0.3em;box-sizing: border-box;text-align: center;}#sk-container-id-3 label.sk-toggleable__label-arrow:before {content: \"▸\";float: left;margin-right: 0.25em;color: #696969;}#sk-container-id-3 label.sk-toggleable__label-arrow:hover:before {color: black;}#sk-container-id-3 div.sk-estimator:hover label.sk-toggleable__label-arrow:before {color: black;}#sk-container-id-3 div.sk-toggleable__content {max-height: 0;max-width: 0;overflow: hidden;text-align: left;background-color: #f0f8ff;}#sk-container-id-3 div.sk-toggleable__content pre {margin: 0.2em;color: black;border-radius: 0.25em;background-color: #f0f8ff;}#sk-container-id-3 input.sk-toggleable__control:checked~div.sk-toggleable__content {max-height: 200px;max-width: 100%;overflow: auto;}#sk-container-id-3 input.sk-toggleable__control:checked~label.sk-toggleable__label-arrow:before {content: \"▾\";}#sk-container-id-3 div.sk-estimator input.sk-toggleable__control:checked~label.sk-toggleable__label {background-color: #d4ebff;}#sk-container-id-3 div.sk-label input.sk-toggleable__control:checked~label.sk-toggleable__label {background-color: #d4ebff;}#sk-container-id-3 input.sk-hidden--visually {border: 0;clip: rect(1px 1px 1px 1px);clip: rect(1px, 1px, 1px, 1px);height: 1px;margin: -1px;overflow: hidden;padding: 0;position: absolute;width: 1px;}#sk-container-id-3 div.sk-estimator {font-family: monospace;background-color: #f0f8ff;border: 1px dotted black;border-radius: 0.25em;box-sizing: border-box;margin-bottom: 0.5em;}#sk-container-id-3 div.sk-estimator:hover {background-color: #d4ebff;}#sk-container-id-3 div.sk-parallel-item::after {content: \"\";width: 100%;border-bottom: 1px solid gray;flex-grow: 1;}#sk-container-id-3 div.sk-label:hover label.sk-toggleable__label {background-color: #d4ebff;}#sk-container-id-3 div.sk-serial::before {content: \"\";position: absolute;border-left: 1px solid gray;box-sizing: border-box;top: 0;bottom: 0;left: 50%;z-index: 0;}#sk-container-id-3 div.sk-serial {display: flex;flex-direction: column;align-items: center;background-color: white;padding-right: 0.2em;padding-left: 0.2em;position: relative;}#sk-container-id-3 div.sk-item {position: relative;z-index: 1;}#sk-container-id-3 div.sk-parallel {display: flex;align-items: stretch;justify-content: center;background-color: white;position: relative;}#sk-container-id-3 div.sk-item::before, #sk-container-id-3 div.sk-parallel-item::before {content: \"\";position: absolute;border-left: 1px solid gray;box-sizing: border-box;top: 0;bottom: 0;left: 50%;z-index: -1;}#sk-container-id-3 div.sk-parallel-item {display: flex;flex-direction: column;z-index: 1;position: relative;background-color: white;}#sk-container-id-3 div.sk-parallel-item:first-child::after {align-self: flex-end;width: 50%;}#sk-container-id-3 div.sk-parallel-item:last-child::after {align-self: flex-start;width: 50%;}#sk-container-id-3 div.sk-parallel-item:only-child::after {width: 0;}#sk-container-id-3 div.sk-dashed-wrapped {border: 1px dashed gray;margin: 0 0.4em 0.5em 0.4em;box-sizing: border-box;padding-bottom: 0.4em;background-color: white;}#sk-container-id-3 div.sk-label label {font-family: monospace;font-weight: bold;display: inline-block;line-height: 1.2em;}#sk-container-id-3 div.sk-label-container {text-align: center;}#sk-container-id-3 div.sk-container {/* jupyter's `normalize.less` sets `[hidden] { display: none; }` but bootstrap.min.css set `[hidden] { display: none !important; }` so we also need the `!important` here to be able to override the default hidden behavior on the sphinx rendered scikit-learn.org. See: https://github.com/scikit-learn/scikit-learn/issues/21755 */display: inline-block !important;position: relative;}#sk-container-id-3 div.sk-text-repr-fallback {display: none;}</style><div id=\"sk-container-id-3\" class=\"sk-top-container\"><div class=\"sk-text-repr-fallback\"><pre>KMeans(init=&#x27;random&#x27;, n_clusters=6, random_state=0)</pre><b>In a Jupyter environment, please rerun this cell to show the HTML representation or trust the notebook. <br />On GitHub, the HTML representation is unable to render, please try loading this page with nbviewer.org.</b></div><div class=\"sk-container\" hidden><div class=\"sk-item\"><div class=\"sk-estimator sk-toggleable\"><input class=\"sk-toggleable__control sk-hidden--visually\" id=\"sk-estimator-id-3\" type=\"checkbox\" checked><label for=\"sk-estimator-id-3\" class=\"sk-toggleable__label sk-toggleable__label-arrow\">KMeans</label><div class=\"sk-toggleable__content\"><pre>KMeans(init=&#x27;random&#x27;, n_clusters=6, random_state=0)</pre></div></div></div></div></div>"
      ],
      "text/plain": [
       "KMeans(init='random', n_clusters=6, random_state=0)"
      ]
     },
     "execution_count": 104,
     "metadata": {},
     "output_type": "execute_result"
    }
   ],
   "source": [
    "kmeans.fit(scaled_df)"
   ]
  },
  {
   "cell_type": "code",
   "execution_count": 105,
   "id": "8a67c37d",
   "metadata": {},
   "outputs": [
    {
     "data": {
      "text/plain": [
       "1326.564300192436"
      ]
     },
     "execution_count": 105,
     "metadata": {},
     "output_type": "execute_result"
    }
   ],
   "source": [
    "kmeans.inertia_"
   ]
  },
  {
   "cell_type": "code",
   "execution_count": 106,
   "id": "03433873",
   "metadata": {},
   "outputs": [
    {
     "data": {
      "text/plain": [
       "array([2, 2, 2, 1, 2, 2, 2, 2, 1, 2, 2, 2, 2, 2, 2, 1, 2, 1, 2, 1, 2, 1,\n",
       "       4, 5, 2, 2, 1, 1, 2, 4, 1, 1, 1, 4, 1, 2, 4, 2, 2, 4, 4, 1, 2, 2,\n",
       "       2, 2, 2, 5, 2, 2, 1, 1, 4, 2, 1, 1, 5, 2, 1, 1, 2, 5, 2, 2, 1, 5,\n",
       "       1, 2, 1, 1, 1, 4, 1, 2, 2, 1, 1, 2, 1, 1, 1, 2, 2, 1, 2, 5, 5, 4,\n",
       "       1, 4, 1, 1, 5, 4, 2, 1, 2, 1, 1, 1, 2, 2, 2, 4, 1, 1, 2, 2, 2, 2,\n",
       "       1, 2, 1, 1, 1, 1, 1, 1, 1, 1, 1, 1, 1, 2, 4, 4, 1, 2, 1, 4, 1, 1,\n",
       "       1, 1, 1, 1, 1, 1, 1, 1, 1, 4, 4, 1, 1, 2, 1, 1, 1, 4, 1, 1, 1, 1,\n",
       "       1, 2, 2, 1, 2, 2, 2, 1, 1, 2, 2, 2, 2, 1, 1, 1, 2, 2, 1, 2, 1, 2,\n",
       "       4, 1, 1, 1, 1, 4, 1, 0, 1, 1, 1, 1, 2, 2, 1, 1, 1, 2, 1, 1, 4, 2,\n",
       "       3, 3, 2, 2, 3, 3, 3, 2, 3, 3, 3, 2, 3, 5, 3, 3, 2, 3, 2, 3, 2, 3,\n",
       "       3, 3, 3, 3, 3, 3, 3, 3, 3, 3, 3, 3, 3, 3, 3, 3, 3, 3, 3, 4, 3, 3,\n",
       "       3, 3, 3, 2, 3, 3, 3, 3, 3, 5, 3, 3, 3, 3, 3, 3, 4, 4, 3, 3, 3, 3,\n",
       "       2, 3, 2, 3, 2, 3, 3, 3, 3, 4, 1, 1, 4, 1, 1, 2, 1, 2, 4, 4, 4, 4,\n",
       "       1, 1, 1, 4, 1, 1, 1, 2, 3, 2, 3, 2, 2, 3, 2, 2, 2, 2, 2, 2, 2, 3,\n",
       "       3, 2, 3, 4, 2, 3, 3, 2, 3, 3, 3, 2, 3, 3, 3, 3, 3, 0, 3, 3, 3, 3,\n",
       "       3, 2, 3, 5, 3, 2, 3, 3, 3, 3, 2, 2, 1, 2, 1, 1, 2, 2, 1, 2, 1, 2,\n",
       "       1, 2, 1, 1, 1, 2, 1, 1, 1, 1, 1, 1, 1, 2, 1, 1, 1, 1, 4, 1, 1, 2,\n",
       "       1, 1, 2, 4, 1, 2, 4, 1, 4, 1, 1, 1, 1, 1, 1, 1, 1, 1, 1, 4, 1, 1,\n",
       "       2, 1, 1, 1, 1, 4, 1, 1, 1, 1, 4, 2, 2, 1, 1, 1, 1, 1, 1, 2, 2, 1,\n",
       "       2, 1, 1, 2, 1, 2, 2, 1, 1, 4, 1, 1, 1, 1, 1, 1, 1, 4, 4, 2, 1, 1],\n",
       "      dtype=int32)"
      ]
     },
     "execution_count": 106,
     "metadata": {},
     "output_type": "execute_result"
    }
   ],
   "source": [
    "kmeans.labels_"
   ]
  },
  {
   "cell_type": "code",
   "execution_count": 107,
   "id": "9ba536bf",
   "metadata": {},
   "outputs": [
    {
     "data": {
      "text/plain": [
       "array([[-6.90297086e-01, -5.58343155e-02,  1.80335587e+00,\n",
       "         3.33298726e+00,  9.42518505e-01,  9.40980070e+00,\n",
       "        -4.46409015e-01,  8.96415723e+00],\n",
       "       [-6.90297086e-01,  5.90668285e-01, -2.52033049e-01,\n",
       "        -3.85809244e-01, -4.76606883e-01, -8.06492077e-02,\n",
       "        -4.42468053e-01, -1.83933396e-01],\n",
       "       [ 1.44865163e+00,  1.63142372e-01, -3.47307951e-01,\n",
       "         4.28317250e-01,  6.66702394e-01, -3.55967591e-01,\n",
       "         6.92257331e-01,  5.10760509e-03],\n",
       "       [-5.65939603e-01, -1.58939862e+00, -1.29162616e-01,\n",
       "        -3.53211563e-01, -4.09523871e-01,  3.37648564e-02,\n",
       "        -4.22842794e-01, -1.48108824e-01],\n",
       "       [-5.88442385e-01,  3.13595742e-01,  2.15231486e+00,\n",
       "        -1.25191341e-01, -2.42118698e-01,  8.60394956e-01,\n",
       "        -4.19951952e-01,  3.81096492e-01],\n",
       "       [ 1.44865163e+00,  2.93864819e-03,  3.88728973e-01,\n",
       "         3.94304862e+00,  4.02164626e+00,  3.57841274e-02,\n",
       "         4.22611641e+00,  9.41635735e-01]])"
      ]
     },
     "execution_count": 107,
     "metadata": {},
     "output_type": "execute_result"
    }
   ],
   "source": [
    "kmeans.cluster_centers_"
   ]
  },
  {
   "cell_type": "code",
   "execution_count": 108,
   "id": "49fb157f",
   "metadata": {},
   "outputs": [],
   "source": [
    "clusters = range(2,15)"
   ]
  },
  {
   "cell_type": "code",
   "execution_count": 109,
   "id": "7efb9c5c",
   "metadata": {},
   "outputs": [],
   "source": [
    "import numpy as np\n",
    "\n",
    "sse_df = pd.DataFrame(np.column_stack((clusters, sse)), columns=['cluster', 'SSE'])"
   ]
  },
  {
   "cell_type": "code",
   "execution_count": 110,
   "id": "6bae320a",
   "metadata": {},
   "outputs": [
    {
     "data": {
      "text/html": [
       "<div>\n",
       "<style scoped>\n",
       "    .dataframe tbody tr th:only-of-type {\n",
       "        vertical-align: middle;\n",
       "    }\n",
       "\n",
       "    .dataframe tbody tr th {\n",
       "        vertical-align: top;\n",
       "    }\n",
       "\n",
       "    .dataframe thead th {\n",
       "        text-align: right;\n",
       "    }\n",
       "</style>\n",
       "<table border=\"1\" class=\"dataframe\">\n",
       "  <thead>\n",
       "    <tr style=\"text-align: right;\">\n",
       "      <th></th>\n",
       "      <th>cluster</th>\n",
       "      <th>SSE</th>\n",
       "    </tr>\n",
       "  </thead>\n",
       "  <tbody>\n",
       "    <tr>\n",
       "      <th>0</th>\n",
       "      <td>2.0</td>\n",
       "      <td>2599.385559</td>\n",
       "    </tr>\n",
       "    <tr>\n",
       "      <th>1</th>\n",
       "      <td>3.0</td>\n",
       "      <td>2149.283956</td>\n",
       "    </tr>\n",
       "    <tr>\n",
       "      <th>2</th>\n",
       "      <td>4.0</td>\n",
       "      <td>1851.840872</td>\n",
       "    </tr>\n",
       "    <tr>\n",
       "      <th>3</th>\n",
       "      <td>5.0</td>\n",
       "      <td>1610.106509</td>\n",
       "    </tr>\n",
       "    <tr>\n",
       "      <th>4</th>\n",
       "      <td>6.0</td>\n",
       "      <td>1326.564300</td>\n",
       "    </tr>\n",
       "    <tr>\n",
       "      <th>5</th>\n",
       "      <td>7.0</td>\n",
       "      <td>1218.476465</td>\n",
       "    </tr>\n",
       "    <tr>\n",
       "      <th>6</th>\n",
       "      <td>8.0</td>\n",
       "      <td>1141.894808</td>\n",
       "    </tr>\n",
       "    <tr>\n",
       "      <th>7</th>\n",
       "      <td>9.0</td>\n",
       "      <td>1081.955926</td>\n",
       "    </tr>\n",
       "    <tr>\n",
       "      <th>8</th>\n",
       "      <td>10.0</td>\n",
       "      <td>1025.809427</td>\n",
       "    </tr>\n",
       "    <tr>\n",
       "      <th>9</th>\n",
       "      <td>11.0</td>\n",
       "      <td>965.670897</td>\n",
       "    </tr>\n",
       "    <tr>\n",
       "      <th>10</th>\n",
       "      <td>12.0</td>\n",
       "      <td>832.478826</td>\n",
       "    </tr>\n",
       "    <tr>\n",
       "      <th>11</th>\n",
       "      <td>13.0</td>\n",
       "      <td>783.008042</td>\n",
       "    </tr>\n",
       "    <tr>\n",
       "      <th>12</th>\n",
       "      <td>14.0</td>\n",
       "      <td>735.430320</td>\n",
       "    </tr>\n",
       "  </tbody>\n",
       "</table>\n",
       "</div>"
      ],
      "text/plain": [
       "    cluster          SSE\n",
       "0       2.0  2599.385559\n",
       "1       3.0  2149.283956\n",
       "2       4.0  1851.840872\n",
       "3       5.0  1610.106509\n",
       "4       6.0  1326.564300\n",
       "5       7.0  1218.476465\n",
       "6       8.0  1141.894808\n",
       "7       9.0  1081.955926\n",
       "8      10.0  1025.809427\n",
       "9      11.0   965.670897\n",
       "10     12.0   832.478826\n",
       "11     13.0   783.008042\n",
       "12     14.0   735.430320"
      ]
     },
     "execution_count": 110,
     "metadata": {},
     "output_type": "execute_result"
    }
   ],
   "source": [
    "sse_df"
   ]
  },
  {
   "cell_type": "code",
   "execution_count": 111,
   "id": "b55c3016",
   "metadata": {},
   "outputs": [
    {
     "data": {
      "text/plain": [
       "440"
      ]
     },
     "execution_count": 111,
     "metadata": {},
     "output_type": "execute_result"
    }
   ],
   "source": [
    "len(df)"
   ]
  },
  {
   "cell_type": "code",
   "execution_count": 112,
   "id": "e3745171",
   "metadata": {},
   "outputs": [
    {
     "data": {
      "text/plain": [
       "0      2\n",
       "1      2\n",
       "2      2\n",
       "3      1\n",
       "4      2\n",
       "      ..\n",
       "435    4\n",
       "436    4\n",
       "437    2\n",
       "438    1\n",
       "439    1\n",
       "Name: cluster, Length: 440, dtype: int32"
      ]
     },
     "execution_count": 112,
     "metadata": {},
     "output_type": "execute_result"
    }
   ],
   "source": [
    "pred = kmeans.predict(scaled_df)\n",
    "df['cluster'] = pred\n",
    "df.cluster"
   ]
  },
  {
   "cell_type": "code",
   "execution_count": 113,
   "id": "60c898a2",
   "metadata": {},
   "outputs": [
    {
     "name": "stdout",
     "output_type": "stream",
     "text": [
      "\n",
      "Count in each cluster: \n",
      " 1    175\n",
      "2    124\n",
      "3     86\n",
      "4     42\n",
      "5     11\n",
      "0      2\n",
      "Name: cluster, dtype: int64\n"
     ]
    }
   ],
   "source": [
    "print('\\nCount in each cluster: \\n', df['cluster'].value_counts())"
   ]
  },
  {
   "cell_type": "code",
   "execution_count": 115,
   "id": "ec9bcd1d",
   "metadata": {},
   "outputs": [
    {
     "data": {
      "text/plain": [
       "0      3\n",
       "1      3\n",
       "2      3\n",
       "3      3\n",
       "4      3\n",
       "      ..\n",
       "435    3\n",
       "436    3\n",
       "437    3\n",
       "438    3\n",
       "439    3\n",
       "Name: Region, Length: 440, dtype: int64"
      ]
     },
     "execution_count": 115,
     "metadata": {},
     "output_type": "execute_result"
    }
   ],
   "source": [
    "df.Region"
   ]
  }
 ],
 "metadata": {
  "kernelspec": {
   "display_name": "Python 3 (ipykernel)",
   "language": "python",
   "name": "python3"
  },
  "language_info": {
   "codemirror_mode": {
    "name": "ipython",
    "version": 3
   },
   "file_extension": ".py",
   "mimetype": "text/x-python",
   "name": "python",
   "nbconvert_exporter": "python",
   "pygments_lexer": "ipython3",
   "version": "3.8.13"
  },
  "varInspector": {
   "cols": {
    "lenName": 16,
    "lenType": 16,
    "lenVar": 40
   },
   "kernels_config": {
    "python": {
     "delete_cmd_postfix": "",
     "delete_cmd_prefix": "del ",
     "library": "var_list.py",
     "varRefreshCmd": "print(var_dic_list())"
    },
    "r": {
     "delete_cmd_postfix": ") ",
     "delete_cmd_prefix": "rm(",
     "library": "var_list.r",
     "varRefreshCmd": "cat(var_dic_list()) "
    }
   },
   "types_to_exclude": [
    "module",
    "function",
    "builtin_function_or_method",
    "instance",
    "_Feature"
   ],
   "window_display": false
  }
 },
 "nbformat": 4,
 "nbformat_minor": 5
}
